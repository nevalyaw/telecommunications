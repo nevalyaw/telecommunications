{
 "cells": [
  {
   "cell_type": "markdown",
   "id": "f978be86",
   "metadata": {},
   "source": [
    "# Выпускной проект \"телекоммуникации\""
   ]
  },
  {
   "cell_type": "markdown",
   "id": "a1803f37",
   "metadata": {},
   "source": [
    "## Описание проекта\n",
    "\n",
    "Оператор связи «ТелеДом» хочет бороться с оттоком клиентов. Для этого его сотрудники начнут предлагать промокоды и специальные условия всем, кто планирует отказаться от услуг связи. Чтобы заранее находить таких пользователей, «ТелеДому» нужна модель, которая будет предсказывать, разорвёт ли абонент договор. Команда оператора собрала персональные данные о некоторых клиентах, информацию об их тарифах и услугах. Ваша задача — обучить на этих данных модель для прогноза оттока клиентов."
   ]
  },
  {
   "cell_type": "markdown",
   "id": "bb8cf6a9",
   "metadata": {},
   "source": [
    "## Загрузка данных"
   ]
  },
  {
   "cell_type": "markdown",
   "id": "f95f811a",
   "metadata": {},
   "source": [
    "Начинаем с импорта необходимых библиотек."
   ]
  },
  {
   "cell_type": "code",
   "execution_count": 1,
   "id": "984cd90e",
   "metadata": {},
   "outputs": [
    {
     "name": "stdout",
     "output_type": "stream",
     "text": [
      "\u001b[31mERROR: pip's dependency resolver does not currently take into account all the packages that are installed. This behaviour is the source of the following dependency conflicts.\n",
      "scipy 1.9.1 requires numpy<1.25.0,>=1.18.5, but you have numpy 2.0.0 which is incompatible.\n",
      "numba 0.56.0 requires numpy<1.23,>=1.18, but you have numpy 2.0.0 which is incompatible.\u001b[0m\n",
      "\u001b[31mERROR: pip's dependency resolver does not currently take into account all the packages that are installed. This behaviour is the source of the following dependency conflicts.\n",
      "numba 0.56.0 requires numpy<1.23,>=1.18, but you have numpy 1.24.4 which is incompatible.\u001b[0m\n"
     ]
    }
   ],
   "source": [
    "# Загрузка библиотек:\n",
    "!pip install -U pyodbc -q\n",
    "\n",
    "!pip install -U numpy -q\n",
    "!pip install -U pandas -q \n",
    "!pip install -U scikit-learn -q\n",
    "\n",
    "!pip3 install phik -q\n",
    "!pip3 install imblearn -q\n",
    "!pip3 install catboost -q\n",
    "!pip3 install lightgbm -q\n",
    "\n",
    "!pip3 install pytest -q"
   ]
  },
  {
   "cell_type": "code",
   "execution_count": 2,
   "id": "658f0194",
   "metadata": {},
   "outputs": [],
   "source": [
    "# Добавление нужных библиотек:\n",
    "import numpy as np\n",
    "import pandas as pd\n",
    "\n",
    "from sklearn.model_selection import train_test_split, GridSearchCV\n",
    "\n",
    "from sklearn.preprocessing import StandardScaler, OneHotEncoder, OrdinalEncoder \n",
    "\n",
    "from imblearn.pipeline import Pipeline \n",
    "from imblearn.over_sampling import SMOTE \n",
    "\n",
    "from catboost import CatBoostClassifier \n",
    "from lightgbm import LGBMClassifier\n",
    "\n",
    "from sklearn.metrics import roc_auc_score, accuracy_score, confusion_matrix, ConfusionMatrixDisplay, make_scorer, precision_score\n",
    "\n",
    "import phik\n",
    "from phik.report import plot_correlation_matrix\n",
    "\n",
    "import seaborn as sns\n",
    "from matplotlib import pyplot as plt\n",
    "from pandas.plotting import scatter_matrix"
   ]
  },
  {
   "cell_type": "code",
   "execution_count": 3,
   "id": "409f846a",
   "metadata": {},
   "outputs": [],
   "source": [
    "# Глобальные переменные:\n",
    "RANDOM_STATE = 30624\n",
    "TEST_SIZE = 0.25"
   ]
  },
  {
   "cell_type": "markdown",
   "id": "22827432",
   "metadata": {},
   "source": [
    "Переходим к распаковке данных. Всего имеем 4 файла; загрузим их, посмотрим общие сведения."
   ]
  },
  {
   "cell_type": "code",
   "execution_count": 4,
   "id": "5df9c76a",
   "metadata": {
    "scrolled": false
   },
   "outputs": [
    {
     "data": {
      "text/html": [
       "<div>\n",
       "<style scoped>\n",
       "    .dataframe tbody tr th:only-of-type {\n",
       "        vertical-align: middle;\n",
       "    }\n",
       "\n",
       "    .dataframe tbody tr th {\n",
       "        vertical-align: top;\n",
       "    }\n",
       "\n",
       "    .dataframe thead th {\n",
       "        text-align: right;\n",
       "    }\n",
       "</style>\n",
       "<table border=\"1\" class=\"dataframe\">\n",
       "  <thead>\n",
       "    <tr style=\"text-align: right;\">\n",
       "      <th></th>\n",
       "      <th>customerID</th>\n",
       "      <th>BeginDate</th>\n",
       "      <th>EndDate</th>\n",
       "      <th>Type</th>\n",
       "      <th>PaperlessBilling</th>\n",
       "      <th>PaymentMethod</th>\n",
       "      <th>MonthlyCharges</th>\n",
       "      <th>TotalCharges</th>\n",
       "    </tr>\n",
       "  </thead>\n",
       "  <tbody>\n",
       "    <tr>\n",
       "      <th>0</th>\n",
       "      <td>7590-VHVEG</td>\n",
       "      <td>2020-01-01</td>\n",
       "      <td>No</td>\n",
       "      <td>Month-to-month</td>\n",
       "      <td>Yes</td>\n",
       "      <td>Electronic check</td>\n",
       "      <td>29.85</td>\n",
       "      <td>31.04</td>\n",
       "    </tr>\n",
       "    <tr>\n",
       "      <th>1</th>\n",
       "      <td>5575-GNVDE</td>\n",
       "      <td>2017-04-01</td>\n",
       "      <td>No</td>\n",
       "      <td>One year</td>\n",
       "      <td>No</td>\n",
       "      <td>Mailed check</td>\n",
       "      <td>56.95</td>\n",
       "      <td>2071.84</td>\n",
       "    </tr>\n",
       "    <tr>\n",
       "      <th>2</th>\n",
       "      <td>3668-QPYBK</td>\n",
       "      <td>2019-10-01</td>\n",
       "      <td>No</td>\n",
       "      <td>Month-to-month</td>\n",
       "      <td>Yes</td>\n",
       "      <td>Mailed check</td>\n",
       "      <td>53.85</td>\n",
       "      <td>226.17</td>\n",
       "    </tr>\n",
       "    <tr>\n",
       "      <th>3</th>\n",
       "      <td>7795-CFOCW</td>\n",
       "      <td>2016-05-01</td>\n",
       "      <td>No</td>\n",
       "      <td>One year</td>\n",
       "      <td>No</td>\n",
       "      <td>Bank transfer (automatic)</td>\n",
       "      <td>42.30</td>\n",
       "      <td>1960.6</td>\n",
       "    </tr>\n",
       "    <tr>\n",
       "      <th>4</th>\n",
       "      <td>9237-HQITU</td>\n",
       "      <td>2019-09-01</td>\n",
       "      <td>No</td>\n",
       "      <td>Month-to-month</td>\n",
       "      <td>Yes</td>\n",
       "      <td>Electronic check</td>\n",
       "      <td>70.70</td>\n",
       "      <td>353.5</td>\n",
       "    </tr>\n",
       "  </tbody>\n",
       "</table>\n",
       "</div>"
      ],
      "text/plain": [
       "   customerID   BeginDate EndDate            Type PaperlessBilling  \\\n",
       "0  7590-VHVEG  2020-01-01      No  Month-to-month              Yes   \n",
       "1  5575-GNVDE  2017-04-01      No        One year               No   \n",
       "2  3668-QPYBK  2019-10-01      No  Month-to-month              Yes   \n",
       "3  7795-CFOCW  2016-05-01      No        One year               No   \n",
       "4  9237-HQITU  2019-09-01      No  Month-to-month              Yes   \n",
       "\n",
       "               PaymentMethod  MonthlyCharges TotalCharges  \n",
       "0           Electronic check           29.85        31.04  \n",
       "1               Mailed check           56.95      2071.84  \n",
       "2               Mailed check           53.85       226.17  \n",
       "3  Bank transfer (automatic)           42.30       1960.6  \n",
       "4           Electronic check           70.70        353.5  "
      ]
     },
     "metadata": {},
     "output_type": "display_data"
    },
    {
     "name": "stdout",
     "output_type": "stream",
     "text": [
      "<class 'pandas.core.frame.DataFrame'>\n",
      "RangeIndex: 7043 entries, 0 to 7042\n",
      "Data columns (total 8 columns):\n",
      " #   Column            Non-Null Count  Dtype  \n",
      "---  ------            --------------  -----  \n",
      " 0   customerID        7043 non-null   object \n",
      " 1   BeginDate         7043 non-null   object \n",
      " 2   EndDate           7043 non-null   object \n",
      " 3   Type              7043 non-null   object \n",
      " 4   PaperlessBilling  7043 non-null   object \n",
      " 5   PaymentMethod     7043 non-null   object \n",
      " 6   MonthlyCharges    7043 non-null   float64\n",
      " 7   TotalCharges      7043 non-null   object \n",
      "dtypes: float64(1), object(7)\n",
      "memory usage: 440.3+ KB\n",
      "-----\n"
     ]
    },
    {
     "data": {
      "text/html": [
       "<div>\n",
       "<style scoped>\n",
       "    .dataframe tbody tr th:only-of-type {\n",
       "        vertical-align: middle;\n",
       "    }\n",
       "\n",
       "    .dataframe tbody tr th {\n",
       "        vertical-align: top;\n",
       "    }\n",
       "\n",
       "    .dataframe thead th {\n",
       "        text-align: right;\n",
       "    }\n",
       "</style>\n",
       "<table border=\"1\" class=\"dataframe\">\n",
       "  <thead>\n",
       "    <tr style=\"text-align: right;\">\n",
       "      <th></th>\n",
       "      <th>customerID</th>\n",
       "      <th>gender</th>\n",
       "      <th>SeniorCitizen</th>\n",
       "      <th>Partner</th>\n",
       "      <th>Dependents</th>\n",
       "    </tr>\n",
       "  </thead>\n",
       "  <tbody>\n",
       "    <tr>\n",
       "      <th>0</th>\n",
       "      <td>7590-VHVEG</td>\n",
       "      <td>Female</td>\n",
       "      <td>0</td>\n",
       "      <td>Yes</td>\n",
       "      <td>No</td>\n",
       "    </tr>\n",
       "    <tr>\n",
       "      <th>1</th>\n",
       "      <td>5575-GNVDE</td>\n",
       "      <td>Male</td>\n",
       "      <td>0</td>\n",
       "      <td>No</td>\n",
       "      <td>No</td>\n",
       "    </tr>\n",
       "    <tr>\n",
       "      <th>2</th>\n",
       "      <td>3668-QPYBK</td>\n",
       "      <td>Male</td>\n",
       "      <td>0</td>\n",
       "      <td>No</td>\n",
       "      <td>No</td>\n",
       "    </tr>\n",
       "    <tr>\n",
       "      <th>3</th>\n",
       "      <td>7795-CFOCW</td>\n",
       "      <td>Male</td>\n",
       "      <td>0</td>\n",
       "      <td>No</td>\n",
       "      <td>No</td>\n",
       "    </tr>\n",
       "    <tr>\n",
       "      <th>4</th>\n",
       "      <td>9237-HQITU</td>\n",
       "      <td>Female</td>\n",
       "      <td>0</td>\n",
       "      <td>No</td>\n",
       "      <td>No</td>\n",
       "    </tr>\n",
       "  </tbody>\n",
       "</table>\n",
       "</div>"
      ],
      "text/plain": [
       "   customerID  gender  SeniorCitizen Partner Dependents\n",
       "0  7590-VHVEG  Female              0     Yes         No\n",
       "1  5575-GNVDE    Male              0      No         No\n",
       "2  3668-QPYBK    Male              0      No         No\n",
       "3  7795-CFOCW    Male              0      No         No\n",
       "4  9237-HQITU  Female              0      No         No"
      ]
     },
     "metadata": {},
     "output_type": "display_data"
    },
    {
     "name": "stdout",
     "output_type": "stream",
     "text": [
      "<class 'pandas.core.frame.DataFrame'>\n",
      "RangeIndex: 7043 entries, 0 to 7042\n",
      "Data columns (total 5 columns):\n",
      " #   Column         Non-Null Count  Dtype \n",
      "---  ------         --------------  ----- \n",
      " 0   customerID     7043 non-null   object\n",
      " 1   gender         7043 non-null   object\n",
      " 2   SeniorCitizen  7043 non-null   int64 \n",
      " 3   Partner        7043 non-null   object\n",
      " 4   Dependents     7043 non-null   object\n",
      "dtypes: int64(1), object(4)\n",
      "memory usage: 275.2+ KB\n",
      "-----\n"
     ]
    },
    {
     "data": {
      "text/html": [
       "<div>\n",
       "<style scoped>\n",
       "    .dataframe tbody tr th:only-of-type {\n",
       "        vertical-align: middle;\n",
       "    }\n",
       "\n",
       "    .dataframe tbody tr th {\n",
       "        vertical-align: top;\n",
       "    }\n",
       "\n",
       "    .dataframe thead th {\n",
       "        text-align: right;\n",
       "    }\n",
       "</style>\n",
       "<table border=\"1\" class=\"dataframe\">\n",
       "  <thead>\n",
       "    <tr style=\"text-align: right;\">\n",
       "      <th></th>\n",
       "      <th>customerID</th>\n",
       "      <th>InternetService</th>\n",
       "      <th>OnlineSecurity</th>\n",
       "      <th>OnlineBackup</th>\n",
       "      <th>DeviceProtection</th>\n",
       "      <th>TechSupport</th>\n",
       "      <th>StreamingTV</th>\n",
       "      <th>StreamingMovies</th>\n",
       "    </tr>\n",
       "  </thead>\n",
       "  <tbody>\n",
       "    <tr>\n",
       "      <th>0</th>\n",
       "      <td>7590-VHVEG</td>\n",
       "      <td>DSL</td>\n",
       "      <td>No</td>\n",
       "      <td>Yes</td>\n",
       "      <td>No</td>\n",
       "      <td>No</td>\n",
       "      <td>No</td>\n",
       "      <td>No</td>\n",
       "    </tr>\n",
       "    <tr>\n",
       "      <th>1</th>\n",
       "      <td>5575-GNVDE</td>\n",
       "      <td>DSL</td>\n",
       "      <td>Yes</td>\n",
       "      <td>No</td>\n",
       "      <td>Yes</td>\n",
       "      <td>No</td>\n",
       "      <td>No</td>\n",
       "      <td>No</td>\n",
       "    </tr>\n",
       "    <tr>\n",
       "      <th>2</th>\n",
       "      <td>3668-QPYBK</td>\n",
       "      <td>DSL</td>\n",
       "      <td>Yes</td>\n",
       "      <td>Yes</td>\n",
       "      <td>No</td>\n",
       "      <td>No</td>\n",
       "      <td>No</td>\n",
       "      <td>No</td>\n",
       "    </tr>\n",
       "    <tr>\n",
       "      <th>3</th>\n",
       "      <td>7795-CFOCW</td>\n",
       "      <td>DSL</td>\n",
       "      <td>Yes</td>\n",
       "      <td>No</td>\n",
       "      <td>Yes</td>\n",
       "      <td>Yes</td>\n",
       "      <td>No</td>\n",
       "      <td>No</td>\n",
       "    </tr>\n",
       "    <tr>\n",
       "      <th>4</th>\n",
       "      <td>9237-HQITU</td>\n",
       "      <td>Fiber optic</td>\n",
       "      <td>No</td>\n",
       "      <td>No</td>\n",
       "      <td>No</td>\n",
       "      <td>No</td>\n",
       "      <td>No</td>\n",
       "      <td>No</td>\n",
       "    </tr>\n",
       "  </tbody>\n",
       "</table>\n",
       "</div>"
      ],
      "text/plain": [
       "   customerID InternetService OnlineSecurity OnlineBackup DeviceProtection  \\\n",
       "0  7590-VHVEG             DSL             No          Yes               No   \n",
       "1  5575-GNVDE             DSL            Yes           No              Yes   \n",
       "2  3668-QPYBK             DSL            Yes          Yes               No   \n",
       "3  7795-CFOCW             DSL            Yes           No              Yes   \n",
       "4  9237-HQITU     Fiber optic             No           No               No   \n",
       "\n",
       "  TechSupport StreamingTV StreamingMovies  \n",
       "0          No          No              No  \n",
       "1          No          No              No  \n",
       "2          No          No              No  \n",
       "3         Yes          No              No  \n",
       "4          No          No              No  "
      ]
     },
     "metadata": {},
     "output_type": "display_data"
    },
    {
     "name": "stdout",
     "output_type": "stream",
     "text": [
      "<class 'pandas.core.frame.DataFrame'>\n",
      "RangeIndex: 5517 entries, 0 to 5516\n",
      "Data columns (total 8 columns):\n",
      " #   Column            Non-Null Count  Dtype \n",
      "---  ------            --------------  ----- \n",
      " 0   customerID        5517 non-null   object\n",
      " 1   InternetService   5517 non-null   object\n",
      " 2   OnlineSecurity    5517 non-null   object\n",
      " 3   OnlineBackup      5517 non-null   object\n",
      " 4   DeviceProtection  5517 non-null   object\n",
      " 5   TechSupport       5517 non-null   object\n",
      " 6   StreamingTV       5517 non-null   object\n",
      " 7   StreamingMovies   5517 non-null   object\n",
      "dtypes: object(8)\n",
      "memory usage: 344.9+ KB\n",
      "-----\n"
     ]
    },
    {
     "data": {
      "text/html": [
       "<div>\n",
       "<style scoped>\n",
       "    .dataframe tbody tr th:only-of-type {\n",
       "        vertical-align: middle;\n",
       "    }\n",
       "\n",
       "    .dataframe tbody tr th {\n",
       "        vertical-align: top;\n",
       "    }\n",
       "\n",
       "    .dataframe thead th {\n",
       "        text-align: right;\n",
       "    }\n",
       "</style>\n",
       "<table border=\"1\" class=\"dataframe\">\n",
       "  <thead>\n",
       "    <tr style=\"text-align: right;\">\n",
       "      <th></th>\n",
       "      <th>customerID</th>\n",
       "      <th>MultipleLines</th>\n",
       "    </tr>\n",
       "  </thead>\n",
       "  <tbody>\n",
       "    <tr>\n",
       "      <th>0</th>\n",
       "      <td>5575-GNVDE</td>\n",
       "      <td>No</td>\n",
       "    </tr>\n",
       "    <tr>\n",
       "      <th>1</th>\n",
       "      <td>3668-QPYBK</td>\n",
       "      <td>No</td>\n",
       "    </tr>\n",
       "    <tr>\n",
       "      <th>2</th>\n",
       "      <td>9237-HQITU</td>\n",
       "      <td>No</td>\n",
       "    </tr>\n",
       "    <tr>\n",
       "      <th>3</th>\n",
       "      <td>9305-CDSKC</td>\n",
       "      <td>Yes</td>\n",
       "    </tr>\n",
       "    <tr>\n",
       "      <th>4</th>\n",
       "      <td>1452-KIOVK</td>\n",
       "      <td>Yes</td>\n",
       "    </tr>\n",
       "  </tbody>\n",
       "</table>\n",
       "</div>"
      ],
      "text/plain": [
       "   customerID MultipleLines\n",
       "0  5575-GNVDE            No\n",
       "1  3668-QPYBK            No\n",
       "2  9237-HQITU            No\n",
       "3  9305-CDSKC           Yes\n",
       "4  1452-KIOVK           Yes"
      ]
     },
     "metadata": {},
     "output_type": "display_data"
    },
    {
     "name": "stdout",
     "output_type": "stream",
     "text": [
      "<class 'pandas.core.frame.DataFrame'>\n",
      "RangeIndex: 6361 entries, 0 to 6360\n",
      "Data columns (total 2 columns):\n",
      " #   Column         Non-Null Count  Dtype \n",
      "---  ------         --------------  ----- \n",
      " 0   customerID     6361 non-null   object\n",
      " 1   MultipleLines  6361 non-null   object\n",
      "dtypes: object(2)\n",
      "memory usage: 99.5+ KB\n"
     ]
    }
   ],
   "source": [
    "# Загрузка данных:\n",
    "contract = pd.read_csv('/datasets/contract_new.csv')\n",
    "personal = pd.read_csv('/datasets/personal_new.csv')\n",
    "internet = pd.read_csv('/datasets/internet_new.csv')\n",
    "phone = pd.read_csv('/datasets/phone_new.csv')\n",
    "\n",
    "display(contract.head())\n",
    "contract.info()\n",
    "print('-----')\n",
    "display(personal.head())\n",
    "personal.info()\n",
    "print('-----')\n",
    "display(internet.head())\n",
    "internet.info()\n",
    "print('-----')\n",
    "display(phone.head())\n",
    "phone.info()"
   ]
  },
  {
   "cell_type": "markdown",
   "id": "0780e76b",
   "metadata": {},
   "source": [
    "В основном в таблицах находятся категориальные переменные, общим является столбец с номером абонента. Пропусков не наблюдается, название стоблцов корректное, можно не править, уже хорошо, вот только количество строк во всех таблицах разное. Возможно, информация есть не по всем пользователям. Проверим количество уникальных id в самой большой таблице."
   ]
  },
  {
   "cell_type": "code",
   "execution_count": 5,
   "id": "0aa6fa4a",
   "metadata": {},
   "outputs": [
    {
     "name": "stdout",
     "output_type": "stream",
     "text": [
      "Уникальных id: 7043\n"
     ]
    }
   ],
   "source": [
    "# Количество уникальных id:\n",
    "print('Уникальных id:', len(pd.unique(contract['customerID'])))"
   ]
  },
  {
   "cell_type": "markdown",
   "id": "19118169",
   "metadata": {},
   "source": [
    "Получается, каких-то пользователей не успели охарактеризовать в других таблицах."
   ]
  },
  {
   "cell_type": "markdown",
   "id": "526307c8",
   "metadata": {},
   "source": [
    "### Промежуточный вывод:\n",
    "Загрузили исходные файлы с данными; пропусков в них не обнаружено, однако сразу столкнулись с проблемой нехватки информации по некоторым пользователям. Придётся серьёзно урезать количество данных."
   ]
  },
  {
   "cell_type": "markdown",
   "id": "ba8854cb",
   "metadata": {},
   "source": [
    "## Предобработка данных"
   ]
  },
  {
   "cell_type": "markdown",
   "id": "541a2684",
   "metadata": {},
   "source": [
    "Далее обработаем все таблицы в итоговую и обработаем её: разберёмся с типами данных, проверим на корректное заполнение, возможно, изменим названия столбцов."
   ]
  },
  {
   "cell_type": "code",
   "execution_count": 6,
   "id": "65839637",
   "metadata": {},
   "outputs": [
    {
     "data": {
      "text/html": [
       "<div>\n",
       "<style scoped>\n",
       "    .dataframe tbody tr th:only-of-type {\n",
       "        vertical-align: middle;\n",
       "    }\n",
       "\n",
       "    .dataframe tbody tr th {\n",
       "        vertical-align: top;\n",
       "    }\n",
       "\n",
       "    .dataframe thead th {\n",
       "        text-align: right;\n",
       "    }\n",
       "</style>\n",
       "<table border=\"1\" class=\"dataframe\">\n",
       "  <thead>\n",
       "    <tr style=\"text-align: right;\">\n",
       "      <th></th>\n",
       "      <th>customerID</th>\n",
       "      <th>BeginDate</th>\n",
       "      <th>EndDate</th>\n",
       "      <th>Type</th>\n",
       "      <th>PaperlessBilling</th>\n",
       "      <th>PaymentMethod</th>\n",
       "      <th>MonthlyCharges</th>\n",
       "      <th>TotalCharges</th>\n",
       "      <th>gender</th>\n",
       "      <th>SeniorCitizen</th>\n",
       "      <th>Partner</th>\n",
       "      <th>Dependents</th>\n",
       "      <th>InternetService</th>\n",
       "      <th>OnlineSecurity</th>\n",
       "      <th>OnlineBackup</th>\n",
       "      <th>DeviceProtection</th>\n",
       "      <th>TechSupport</th>\n",
       "      <th>StreamingTV</th>\n",
       "      <th>StreamingMovies</th>\n",
       "      <th>MultipleLines</th>\n",
       "    </tr>\n",
       "  </thead>\n",
       "  <tbody>\n",
       "    <tr>\n",
       "      <th>0</th>\n",
       "      <td>0002-ORFBO</td>\n",
       "      <td>2019-05-01</td>\n",
       "      <td>No</td>\n",
       "      <td>One year</td>\n",
       "      <td>Yes</td>\n",
       "      <td>Mailed check</td>\n",
       "      <td>65.6</td>\n",
       "      <td>631.73</td>\n",
       "      <td>Female</td>\n",
       "      <td>0</td>\n",
       "      <td>Yes</td>\n",
       "      <td>Yes</td>\n",
       "      <td>DSL</td>\n",
       "      <td>No</td>\n",
       "      <td>Yes</td>\n",
       "      <td>No</td>\n",
       "      <td>Yes</td>\n",
       "      <td>Yes</td>\n",
       "      <td>No</td>\n",
       "      <td>No</td>\n",
       "    </tr>\n",
       "    <tr>\n",
       "      <th>1</th>\n",
       "      <td>0003-MKNFE</td>\n",
       "      <td>2019-05-01</td>\n",
       "      <td>No</td>\n",
       "      <td>Month-to-month</td>\n",
       "      <td>No</td>\n",
       "      <td>Mailed check</td>\n",
       "      <td>59.9</td>\n",
       "      <td>539.1</td>\n",
       "      <td>Male</td>\n",
       "      <td>0</td>\n",
       "      <td>No</td>\n",
       "      <td>No</td>\n",
       "      <td>DSL</td>\n",
       "      <td>No</td>\n",
       "      <td>No</td>\n",
       "      <td>No</td>\n",
       "      <td>No</td>\n",
       "      <td>No</td>\n",
       "      <td>Yes</td>\n",
       "      <td>Yes</td>\n",
       "    </tr>\n",
       "    <tr>\n",
       "      <th>2</th>\n",
       "      <td>0004-TLHLJ</td>\n",
       "      <td>2019-09-01</td>\n",
       "      <td>No</td>\n",
       "      <td>Month-to-month</td>\n",
       "      <td>Yes</td>\n",
       "      <td>Electronic check</td>\n",
       "      <td>73.9</td>\n",
       "      <td>406.45</td>\n",
       "      <td>Male</td>\n",
       "      <td>0</td>\n",
       "      <td>No</td>\n",
       "      <td>No</td>\n",
       "      <td>Fiber optic</td>\n",
       "      <td>No</td>\n",
       "      <td>No</td>\n",
       "      <td>Yes</td>\n",
       "      <td>No</td>\n",
       "      <td>No</td>\n",
       "      <td>No</td>\n",
       "      <td>No</td>\n",
       "    </tr>\n",
       "    <tr>\n",
       "      <th>3</th>\n",
       "      <td>0011-IGKFF</td>\n",
       "      <td>2018-12-01</td>\n",
       "      <td>No</td>\n",
       "      <td>Month-to-month</td>\n",
       "      <td>Yes</td>\n",
       "      <td>Electronic check</td>\n",
       "      <td>98.0</td>\n",
       "      <td>1372.0</td>\n",
       "      <td>Male</td>\n",
       "      <td>1</td>\n",
       "      <td>Yes</td>\n",
       "      <td>No</td>\n",
       "      <td>Fiber optic</td>\n",
       "      <td>No</td>\n",
       "      <td>Yes</td>\n",
       "      <td>Yes</td>\n",
       "      <td>No</td>\n",
       "      <td>Yes</td>\n",
       "      <td>Yes</td>\n",
       "      <td>No</td>\n",
       "    </tr>\n",
       "    <tr>\n",
       "      <th>4</th>\n",
       "      <td>0013-EXCHZ</td>\n",
       "      <td>2019-09-01</td>\n",
       "      <td>No</td>\n",
       "      <td>Month-to-month</td>\n",
       "      <td>Yes</td>\n",
       "      <td>Mailed check</td>\n",
       "      <td>83.9</td>\n",
       "      <td>444.67</td>\n",
       "      <td>Female</td>\n",
       "      <td>1</td>\n",
       "      <td>Yes</td>\n",
       "      <td>No</td>\n",
       "      <td>Fiber optic</td>\n",
       "      <td>No</td>\n",
       "      <td>No</td>\n",
       "      <td>No</td>\n",
       "      <td>Yes</td>\n",
       "      <td>Yes</td>\n",
       "      <td>No</td>\n",
       "      <td>No</td>\n",
       "    </tr>\n",
       "  </tbody>\n",
       "</table>\n",
       "</div>"
      ],
      "text/plain": [
       "   customerID   BeginDate EndDate            Type PaperlessBilling  \\\n",
       "0  0002-ORFBO  2019-05-01      No        One year              Yes   \n",
       "1  0003-MKNFE  2019-05-01      No  Month-to-month               No   \n",
       "2  0004-TLHLJ  2019-09-01      No  Month-to-month              Yes   \n",
       "3  0011-IGKFF  2018-12-01      No  Month-to-month              Yes   \n",
       "4  0013-EXCHZ  2019-09-01      No  Month-to-month              Yes   \n",
       "\n",
       "      PaymentMethod  MonthlyCharges TotalCharges  gender  SeniorCitizen  \\\n",
       "0      Mailed check            65.6       631.73  Female              0   \n",
       "1      Mailed check            59.9        539.1    Male              0   \n",
       "2  Electronic check            73.9       406.45    Male              0   \n",
       "3  Electronic check            98.0       1372.0    Male              1   \n",
       "4      Mailed check            83.9       444.67  Female              1   \n",
       "\n",
       "  Partner Dependents InternetService OnlineSecurity OnlineBackup  \\\n",
       "0     Yes        Yes             DSL             No          Yes   \n",
       "1      No         No             DSL             No           No   \n",
       "2      No         No     Fiber optic             No           No   \n",
       "3     Yes         No     Fiber optic             No          Yes   \n",
       "4     Yes         No     Fiber optic             No           No   \n",
       "\n",
       "  DeviceProtection TechSupport StreamingTV StreamingMovies MultipleLines  \n",
       "0               No         Yes         Yes              No            No  \n",
       "1               No          No          No             Yes           Yes  \n",
       "2              Yes          No          No              No            No  \n",
       "3              Yes          No         Yes             Yes            No  \n",
       "4               No         Yes         Yes              No            No  "
      ]
     },
     "metadata": {},
     "output_type": "display_data"
    },
    {
     "name": "stdout",
     "output_type": "stream",
     "text": [
      "<class 'pandas.core.frame.DataFrame'>\n",
      "RangeIndex: 7043 entries, 0 to 7042\n",
      "Data columns (total 20 columns):\n",
      " #   Column            Non-Null Count  Dtype  \n",
      "---  ------            --------------  -----  \n",
      " 0   customerID        7043 non-null   object \n",
      " 1   BeginDate         7043 non-null   object \n",
      " 2   EndDate           7043 non-null   object \n",
      " 3   Type              7043 non-null   object \n",
      " 4   PaperlessBilling  7043 non-null   object \n",
      " 5   PaymentMethod     7043 non-null   object \n",
      " 6   MonthlyCharges    7043 non-null   float64\n",
      " 7   TotalCharges      7043 non-null   object \n",
      " 8   gender            7043 non-null   object \n",
      " 9   SeniorCitizen     7043 non-null   int64  \n",
      " 10  Partner           7043 non-null   object \n",
      " 11  Dependents        7043 non-null   object \n",
      " 12  InternetService   5517 non-null   object \n",
      " 13  OnlineSecurity    5517 non-null   object \n",
      " 14  OnlineBackup      5517 non-null   object \n",
      " 15  DeviceProtection  5517 non-null   object \n",
      " 16  TechSupport       5517 non-null   object \n",
      " 17  StreamingTV       5517 non-null   object \n",
      " 18  StreamingMovies   5517 non-null   object \n",
      " 19  MultipleLines     6361 non-null   object \n",
      "dtypes: float64(1), int64(1), object(18)\n",
      "memory usage: 1.1+ MB\n"
     ]
    }
   ],
   "source": [
    "# Объединение таблиц:\n",
    "df = contract.merge(personal, on='customerID', how='inner')\n",
    "df = df.merge(internet, on ='customerID', how = 'outer')\n",
    "df = df.merge(phone, on ='customerID', how = 'outer')\n",
    "\n",
    "display(df.head())\n",
    "df.info()"
   ]
  },
  {
   "cell_type": "code",
   "execution_count": 7,
   "id": "1c95e2b1",
   "metadata": {},
   "outputs": [
    {
     "name": "stdout",
     "output_type": "stream",
     "text": [
      "Количество дубликатов: 0\n"
     ]
    }
   ],
   "source": [
    "# Проверка на дубликаты:\n",
    "print('Количество дубликатов:', df.duplicated().sum())"
   ]
  },
  {
   "cell_type": "markdown",
   "id": "eb58ed7a",
   "metadata": {},
   "source": [
    "Дубликатов не обнаружено. Надо придумать, как заменить пустые значения в столбцах; удалять данные нельзя, так как их мало. \n",
    "Из общего обзора знаем, что некоторые пользуются либо телефоном, либо интернетом. Заполним пропуски, исходя из этой информации."
   ]
  },
  {
   "cell_type": "code",
   "execution_count": 8,
   "id": "7ff0acda",
   "metadata": {},
   "outputs": [
    {
     "name": "stdout",
     "output_type": "stream",
     "text": [
      "<class 'pandas.core.frame.DataFrame'>\n",
      "RangeIndex: 7043 entries, 0 to 7042\n",
      "Data columns (total 20 columns):\n",
      " #   Column            Non-Null Count  Dtype  \n",
      "---  ------            --------------  -----  \n",
      " 0   customerID        7043 non-null   object \n",
      " 1   BeginDate         7043 non-null   object \n",
      " 2   EndDate           7043 non-null   object \n",
      " 3   Type              7043 non-null   object \n",
      " 4   PaperlessBilling  7043 non-null   object \n",
      " 5   PaymentMethod     7043 non-null   object \n",
      " 6   MonthlyCharges    7043 non-null   float64\n",
      " 7   TotalCharges      7043 non-null   object \n",
      " 8   gender            7043 non-null   object \n",
      " 9   SeniorCitizen     7043 non-null   int64  \n",
      " 10  Partner           7043 non-null   object \n",
      " 11  Dependents        7043 non-null   object \n",
      " 12  InternetService   7043 non-null   object \n",
      " 13  OnlineSecurity    7043 non-null   object \n",
      " 14  OnlineBackup      7043 non-null   object \n",
      " 15  DeviceProtection  7043 non-null   object \n",
      " 16  TechSupport       7043 non-null   object \n",
      " 17  StreamingTV       7043 non-null   object \n",
      " 18  StreamingMovies   7043 non-null   object \n",
      " 19  MultipleLines     7043 non-null   object \n",
      "dtypes: float64(1), int64(1), object(18)\n",
      "memory usage: 1.1+ MB\n"
     ]
    }
   ],
   "source": [
    "# Выделим столбцы:\n",
    "without_int = ['MultipleLines']\n",
    "without_tel = ['InternetService', 'OnlineSecurity', 'OnlineBackup', \n",
    "               'DeviceProtection', 'TechSupport', 'StreamingTV', 'StreamingMovies']\n",
    "\n",
    "# Заполним пробелы:\n",
    "df[without_int] = df[without_int].fillna('WI')\n",
    "df[without_tel] = df[without_tel].fillna('WT')\n",
    "\n",
    "df.info()"
   ]
  },
  {
   "cell_type": "markdown",
   "id": "7f9d676c",
   "metadata": {},
   "source": [
    "С пропусками разобрались, теперь добавим целевой признак. Точнее он у нас уже есть, это EndDate: если есть дата, клиент ушёл, первая категория; если No - нулевая категория."
   ]
  },
  {
   "cell_type": "code",
   "execution_count": 9,
   "id": "b0ba07bc",
   "metadata": {},
   "outputs": [
    {
     "data": {
      "text/html": [
       "<div>\n",
       "<style scoped>\n",
       "    .dataframe tbody tr th:only-of-type {\n",
       "        vertical-align: middle;\n",
       "    }\n",
       "\n",
       "    .dataframe tbody tr th {\n",
       "        vertical-align: top;\n",
       "    }\n",
       "\n",
       "    .dataframe thead th {\n",
       "        text-align: right;\n",
       "    }\n",
       "</style>\n",
       "<table border=\"1\" class=\"dataframe\">\n",
       "  <thead>\n",
       "    <tr style=\"text-align: right;\">\n",
       "      <th></th>\n",
       "      <th>customerID</th>\n",
       "      <th>BeginDate</th>\n",
       "      <th>EndDate</th>\n",
       "      <th>Type</th>\n",
       "      <th>PaperlessBilling</th>\n",
       "      <th>PaymentMethod</th>\n",
       "      <th>MonthlyCharges</th>\n",
       "      <th>TotalCharges</th>\n",
       "      <th>gender</th>\n",
       "      <th>SeniorCitizen</th>\n",
       "      <th>...</th>\n",
       "      <th>Dependents</th>\n",
       "      <th>InternetService</th>\n",
       "      <th>OnlineSecurity</th>\n",
       "      <th>OnlineBackup</th>\n",
       "      <th>DeviceProtection</th>\n",
       "      <th>TechSupport</th>\n",
       "      <th>StreamingTV</th>\n",
       "      <th>StreamingMovies</th>\n",
       "      <th>MultipleLines</th>\n",
       "      <th>target</th>\n",
       "    </tr>\n",
       "  </thead>\n",
       "  <tbody>\n",
       "    <tr>\n",
       "      <th>3909</th>\n",
       "      <td>5499-ECUTN</td>\n",
       "      <td>2016-03-01</td>\n",
       "      <td>2018-01-01</td>\n",
       "      <td>One year</td>\n",
       "      <td>Yes</td>\n",
       "      <td>Credit card (automatic)</td>\n",
       "      <td>66.05</td>\n",
       "      <td>1525.75</td>\n",
       "      <td>Female</td>\n",
       "      <td>0</td>\n",
       "      <td>...</td>\n",
       "      <td>No</td>\n",
       "      <td>DSL</td>\n",
       "      <td>Yes</td>\n",
       "      <td>No</td>\n",
       "      <td>Yes</td>\n",
       "      <td>No</td>\n",
       "      <td>Yes</td>\n",
       "      <td>No</td>\n",
       "      <td>No</td>\n",
       "      <td>1</td>\n",
       "    </tr>\n",
       "    <tr>\n",
       "      <th>4953</th>\n",
       "      <td>6974-DAFLI</td>\n",
       "      <td>2015-07-01</td>\n",
       "      <td>No</td>\n",
       "      <td>One year</td>\n",
       "      <td>No</td>\n",
       "      <td>Electronic check</td>\n",
       "      <td>19.70</td>\n",
       "      <td>1083.5</td>\n",
       "      <td>Female</td>\n",
       "      <td>0</td>\n",
       "      <td>...</td>\n",
       "      <td>No</td>\n",
       "      <td>WT</td>\n",
       "      <td>WT</td>\n",
       "      <td>WT</td>\n",
       "      <td>WT</td>\n",
       "      <td>WT</td>\n",
       "      <td>WT</td>\n",
       "      <td>WT</td>\n",
       "      <td>No</td>\n",
       "      <td>0</td>\n",
       "    </tr>\n",
       "    <tr>\n",
       "      <th>6681</th>\n",
       "      <td>9497-QCMMS</td>\n",
       "      <td>2019-12-01</td>\n",
       "      <td>No</td>\n",
       "      <td>Month-to-month</td>\n",
       "      <td>Yes</td>\n",
       "      <td>Electronic check</td>\n",
       "      <td>93.55</td>\n",
       "      <td>196.46</td>\n",
       "      <td>Male</td>\n",
       "      <td>1</td>\n",
       "      <td>...</td>\n",
       "      <td>No</td>\n",
       "      <td>Fiber optic</td>\n",
       "      <td>No</td>\n",
       "      <td>No</td>\n",
       "      <td>No</td>\n",
       "      <td>No</td>\n",
       "      <td>Yes</td>\n",
       "      <td>Yes</td>\n",
       "      <td>Yes</td>\n",
       "      <td>0</td>\n",
       "    </tr>\n",
       "    <tr>\n",
       "      <th>1645</th>\n",
       "      <td>2388-LAESQ</td>\n",
       "      <td>2014-02-01</td>\n",
       "      <td>No</td>\n",
       "      <td>Two year</td>\n",
       "      <td>Yes</td>\n",
       "      <td>Bank transfer (automatic)</td>\n",
       "      <td>114.85</td>\n",
       "      <td>8765.35</td>\n",
       "      <td>Female</td>\n",
       "      <td>1</td>\n",
       "      <td>...</td>\n",
       "      <td>No</td>\n",
       "      <td>Fiber optic</td>\n",
       "      <td>Yes</td>\n",
       "      <td>Yes</td>\n",
       "      <td>Yes</td>\n",
       "      <td>Yes</td>\n",
       "      <td>Yes</td>\n",
       "      <td>Yes</td>\n",
       "      <td>Yes</td>\n",
       "      <td>0</td>\n",
       "    </tr>\n",
       "    <tr>\n",
       "      <th>1938</th>\n",
       "      <td>2812-REYAT</td>\n",
       "      <td>2016-01-01</td>\n",
       "      <td>No</td>\n",
       "      <td>One year</td>\n",
       "      <td>Yes</td>\n",
       "      <td>Bank transfer (automatic)</td>\n",
       "      <td>20.05</td>\n",
       "      <td>1070.87</td>\n",
       "      <td>Female</td>\n",
       "      <td>0</td>\n",
       "      <td>...</td>\n",
       "      <td>No</td>\n",
       "      <td>WT</td>\n",
       "      <td>WT</td>\n",
       "      <td>WT</td>\n",
       "      <td>WT</td>\n",
       "      <td>WT</td>\n",
       "      <td>WT</td>\n",
       "      <td>WT</td>\n",
       "      <td>No</td>\n",
       "      <td>0</td>\n",
       "    </tr>\n",
       "    <tr>\n",
       "      <th>1927</th>\n",
       "      <td>2801-NISEI</td>\n",
       "      <td>2018-02-01</td>\n",
       "      <td>No</td>\n",
       "      <td>Month-to-month</td>\n",
       "      <td>No</td>\n",
       "      <td>Electronic check</td>\n",
       "      <td>54.95</td>\n",
       "      <td>1371.55</td>\n",
       "      <td>Male</td>\n",
       "      <td>0</td>\n",
       "      <td>...</td>\n",
       "      <td>No</td>\n",
       "      <td>DSL</td>\n",
       "      <td>Yes</td>\n",
       "      <td>No</td>\n",
       "      <td>No</td>\n",
       "      <td>Yes</td>\n",
       "      <td>No</td>\n",
       "      <td>No</td>\n",
       "      <td>No</td>\n",
       "      <td>0</td>\n",
       "    </tr>\n",
       "    <tr>\n",
       "      <th>3053</th>\n",
       "      <td>4369-HTUIF</td>\n",
       "      <td>2019-07-01</td>\n",
       "      <td>No</td>\n",
       "      <td>Month-to-month</td>\n",
       "      <td>Yes</td>\n",
       "      <td>Bank transfer (automatic)</td>\n",
       "      <td>85.15</td>\n",
       "      <td>596.05</td>\n",
       "      <td>Male</td>\n",
       "      <td>1</td>\n",
       "      <td>...</td>\n",
       "      <td>No</td>\n",
       "      <td>Fiber optic</td>\n",
       "      <td>Yes</td>\n",
       "      <td>No</td>\n",
       "      <td>No</td>\n",
       "      <td>No</td>\n",
       "      <td>Yes</td>\n",
       "      <td>No</td>\n",
       "      <td>No</td>\n",
       "      <td>0</td>\n",
       "    </tr>\n",
       "    <tr>\n",
       "      <th>5896</th>\n",
       "      <td>8294-UIMBA</td>\n",
       "      <td>2017-08-01</td>\n",
       "      <td>No</td>\n",
       "      <td>One year</td>\n",
       "      <td>Yes</td>\n",
       "      <td>Bank transfer (automatic)</td>\n",
       "      <td>94.40</td>\n",
       "      <td>2832.0</td>\n",
       "      <td>Female</td>\n",
       "      <td>0</td>\n",
       "      <td>...</td>\n",
       "      <td>No</td>\n",
       "      <td>Fiber optic</td>\n",
       "      <td>No</td>\n",
       "      <td>No</td>\n",
       "      <td>No</td>\n",
       "      <td>Yes</td>\n",
       "      <td>Yes</td>\n",
       "      <td>Yes</td>\n",
       "      <td>No</td>\n",
       "      <td>0</td>\n",
       "    </tr>\n",
       "    <tr>\n",
       "      <th>2954</th>\n",
       "      <td>4213-HKBJO</td>\n",
       "      <td>2017-05-01</td>\n",
       "      <td>No</td>\n",
       "      <td>Two year</td>\n",
       "      <td>No</td>\n",
       "      <td>Credit card (automatic)</td>\n",
       "      <td>25.70</td>\n",
       "      <td>856.58</td>\n",
       "      <td>Female</td>\n",
       "      <td>0</td>\n",
       "      <td>...</td>\n",
       "      <td>No</td>\n",
       "      <td>WT</td>\n",
       "      <td>WT</td>\n",
       "      <td>WT</td>\n",
       "      <td>WT</td>\n",
       "      <td>WT</td>\n",
       "      <td>WT</td>\n",
       "      <td>WT</td>\n",
       "      <td>Yes</td>\n",
       "      <td>0</td>\n",
       "    </tr>\n",
       "    <tr>\n",
       "      <th>2605</th>\n",
       "      <td>3717-LNXKW</td>\n",
       "      <td>2016-12-01</td>\n",
       "      <td>No</td>\n",
       "      <td>Month-to-month</td>\n",
       "      <td>No</td>\n",
       "      <td>Bank transfer (automatic)</td>\n",
       "      <td>91.70</td>\n",
       "      <td>3484.6</td>\n",
       "      <td>Male</td>\n",
       "      <td>0</td>\n",
       "      <td>...</td>\n",
       "      <td>No</td>\n",
       "      <td>Fiber optic</td>\n",
       "      <td>Yes</td>\n",
       "      <td>No</td>\n",
       "      <td>No</td>\n",
       "      <td>No</td>\n",
       "      <td>Yes</td>\n",
       "      <td>No</td>\n",
       "      <td>Yes</td>\n",
       "      <td>0</td>\n",
       "    </tr>\n",
       "  </tbody>\n",
       "</table>\n",
       "<p>10 rows × 21 columns</p>\n",
       "</div>"
      ],
      "text/plain": [
       "      customerID   BeginDate     EndDate            Type PaperlessBilling  \\\n",
       "3909  5499-ECUTN  2016-03-01  2018-01-01        One year              Yes   \n",
       "4953  6974-DAFLI  2015-07-01          No        One year               No   \n",
       "6681  9497-QCMMS  2019-12-01          No  Month-to-month              Yes   \n",
       "1645  2388-LAESQ  2014-02-01          No        Two year              Yes   \n",
       "1938  2812-REYAT  2016-01-01          No        One year              Yes   \n",
       "1927  2801-NISEI  2018-02-01          No  Month-to-month               No   \n",
       "3053  4369-HTUIF  2019-07-01          No  Month-to-month              Yes   \n",
       "5896  8294-UIMBA  2017-08-01          No        One year              Yes   \n",
       "2954  4213-HKBJO  2017-05-01          No        Two year               No   \n",
       "2605  3717-LNXKW  2016-12-01          No  Month-to-month               No   \n",
       "\n",
       "                  PaymentMethod  MonthlyCharges TotalCharges  gender  \\\n",
       "3909    Credit card (automatic)           66.05      1525.75  Female   \n",
       "4953           Electronic check           19.70       1083.5  Female   \n",
       "6681           Electronic check           93.55       196.46    Male   \n",
       "1645  Bank transfer (automatic)          114.85      8765.35  Female   \n",
       "1938  Bank transfer (automatic)           20.05      1070.87  Female   \n",
       "1927           Electronic check           54.95      1371.55    Male   \n",
       "3053  Bank transfer (automatic)           85.15       596.05    Male   \n",
       "5896  Bank transfer (automatic)           94.40       2832.0  Female   \n",
       "2954    Credit card (automatic)           25.70       856.58  Female   \n",
       "2605  Bank transfer (automatic)           91.70       3484.6    Male   \n",
       "\n",
       "      SeniorCitizen  ... Dependents InternetService OnlineSecurity  \\\n",
       "3909              0  ...         No             DSL            Yes   \n",
       "4953              0  ...         No              WT             WT   \n",
       "6681              1  ...         No     Fiber optic             No   \n",
       "1645              1  ...         No     Fiber optic            Yes   \n",
       "1938              0  ...         No              WT             WT   \n",
       "1927              0  ...         No             DSL            Yes   \n",
       "3053              1  ...         No     Fiber optic            Yes   \n",
       "5896              0  ...         No     Fiber optic             No   \n",
       "2954              0  ...         No              WT             WT   \n",
       "2605              0  ...         No     Fiber optic            Yes   \n",
       "\n",
       "     OnlineBackup DeviceProtection TechSupport StreamingTV StreamingMovies  \\\n",
       "3909           No              Yes          No         Yes              No   \n",
       "4953           WT               WT          WT          WT              WT   \n",
       "6681           No               No          No         Yes             Yes   \n",
       "1645          Yes              Yes         Yes         Yes             Yes   \n",
       "1938           WT               WT          WT          WT              WT   \n",
       "1927           No               No         Yes          No              No   \n",
       "3053           No               No          No         Yes              No   \n",
       "5896           No               No         Yes         Yes             Yes   \n",
       "2954           WT               WT          WT          WT              WT   \n",
       "2605           No               No          No         Yes              No   \n",
       "\n",
       "     MultipleLines target  \n",
       "3909            No      1  \n",
       "4953            No      0  \n",
       "6681           Yes      0  \n",
       "1645           Yes      0  \n",
       "1938            No      0  \n",
       "1927            No      0  \n",
       "3053            No      0  \n",
       "5896            No      0  \n",
       "2954           Yes      0  \n",
       "2605           Yes      0  \n",
       "\n",
       "[10 rows x 21 columns]"
      ]
     },
     "metadata": {},
     "output_type": "display_data"
    }
   ],
   "source": [
    "# Функция для преобразования:\n",
    "def target_maker(row):\n",
    "    if row['EndDate'] == 'No':\n",
    "        return 0\n",
    "    return 1\n",
    "\n",
    "df['target'] = df.apply(target_maker, axis=1)\n",
    "display(df.sample(10))"
   ]
  },
  {
   "cell_type": "code",
   "execution_count": 10,
   "id": "d2e07aba",
   "metadata": {},
   "outputs": [
    {
     "data": {
      "text/plain": [
       "target\n",
       "0    5942\n",
       "1    1101\n",
       "Name: count, dtype: int64"
      ]
     },
     "execution_count": 10,
     "metadata": {},
     "output_type": "execute_result"
    }
   ],
   "source": [
    "#КОД МЕНТОРА\n",
    "\n",
    "df.target.value_counts()"
   ]
  },
  {
   "cell_type": "markdown",
   "id": "d56ad0ca",
   "metadata": {},
   "source": [
    "Из подсказки понятно, что необходим новый столбец - продолжительность пользования услугами."
   ]
  },
  {
   "cell_type": "code",
   "execution_count": 11,
   "id": "62fe9a62",
   "metadata": {},
   "outputs": [
    {
     "data": {
      "text/html": [
       "<div>\n",
       "<style scoped>\n",
       "    .dataframe tbody tr th:only-of-type {\n",
       "        vertical-align: middle;\n",
       "    }\n",
       "\n",
       "    .dataframe tbody tr th {\n",
       "        vertical-align: top;\n",
       "    }\n",
       "\n",
       "    .dataframe thead th {\n",
       "        text-align: right;\n",
       "    }\n",
       "</style>\n",
       "<table border=\"1\" class=\"dataframe\">\n",
       "  <thead>\n",
       "    <tr style=\"text-align: right;\">\n",
       "      <th></th>\n",
       "      <th>customerID</th>\n",
       "      <th>BeginDate</th>\n",
       "      <th>EndDate</th>\n",
       "      <th>Type</th>\n",
       "      <th>PaperlessBilling</th>\n",
       "      <th>PaymentMethod</th>\n",
       "      <th>MonthlyCharges</th>\n",
       "      <th>TotalCharges</th>\n",
       "      <th>gender</th>\n",
       "      <th>SeniorCitizen</th>\n",
       "      <th>...</th>\n",
       "      <th>InternetService</th>\n",
       "      <th>OnlineSecurity</th>\n",
       "      <th>OnlineBackup</th>\n",
       "      <th>DeviceProtection</th>\n",
       "      <th>TechSupport</th>\n",
       "      <th>StreamingTV</th>\n",
       "      <th>StreamingMovies</th>\n",
       "      <th>MultipleLines</th>\n",
       "      <th>target</th>\n",
       "      <th>duration_cont</th>\n",
       "    </tr>\n",
       "  </thead>\n",
       "  <tbody>\n",
       "    <tr>\n",
       "      <th>0</th>\n",
       "      <td>0002-ORFBO</td>\n",
       "      <td>2019-05-01</td>\n",
       "      <td>2020-02-01</td>\n",
       "      <td>One year</td>\n",
       "      <td>Yes</td>\n",
       "      <td>Mailed check</td>\n",
       "      <td>65.6</td>\n",
       "      <td>631.73</td>\n",
       "      <td>Female</td>\n",
       "      <td>0</td>\n",
       "      <td>...</td>\n",
       "      <td>DSL</td>\n",
       "      <td>No</td>\n",
       "      <td>Yes</td>\n",
       "      <td>No</td>\n",
       "      <td>Yes</td>\n",
       "      <td>Yes</td>\n",
       "      <td>No</td>\n",
       "      <td>No</td>\n",
       "      <td>0</td>\n",
       "      <td>276</td>\n",
       "    </tr>\n",
       "    <tr>\n",
       "      <th>1</th>\n",
       "      <td>0003-MKNFE</td>\n",
       "      <td>2019-05-01</td>\n",
       "      <td>2020-02-01</td>\n",
       "      <td>Month-to-month</td>\n",
       "      <td>No</td>\n",
       "      <td>Mailed check</td>\n",
       "      <td>59.9</td>\n",
       "      <td>539.1</td>\n",
       "      <td>Male</td>\n",
       "      <td>0</td>\n",
       "      <td>...</td>\n",
       "      <td>DSL</td>\n",
       "      <td>No</td>\n",
       "      <td>No</td>\n",
       "      <td>No</td>\n",
       "      <td>No</td>\n",
       "      <td>No</td>\n",
       "      <td>Yes</td>\n",
       "      <td>Yes</td>\n",
       "      <td>0</td>\n",
       "      <td>276</td>\n",
       "    </tr>\n",
       "    <tr>\n",
       "      <th>2</th>\n",
       "      <td>0004-TLHLJ</td>\n",
       "      <td>2019-09-01</td>\n",
       "      <td>2020-02-01</td>\n",
       "      <td>Month-to-month</td>\n",
       "      <td>Yes</td>\n",
       "      <td>Electronic check</td>\n",
       "      <td>73.9</td>\n",
       "      <td>406.45</td>\n",
       "      <td>Male</td>\n",
       "      <td>0</td>\n",
       "      <td>...</td>\n",
       "      <td>Fiber optic</td>\n",
       "      <td>No</td>\n",
       "      <td>No</td>\n",
       "      <td>Yes</td>\n",
       "      <td>No</td>\n",
       "      <td>No</td>\n",
       "      <td>No</td>\n",
       "      <td>No</td>\n",
       "      <td>0</td>\n",
       "      <td>153</td>\n",
       "    </tr>\n",
       "  </tbody>\n",
       "</table>\n",
       "<p>3 rows × 22 columns</p>\n",
       "</div>"
      ],
      "text/plain": [
       "   customerID  BeginDate    EndDate            Type PaperlessBilling  \\\n",
       "0  0002-ORFBO 2019-05-01 2020-02-01        One year              Yes   \n",
       "1  0003-MKNFE 2019-05-01 2020-02-01  Month-to-month               No   \n",
       "2  0004-TLHLJ 2019-09-01 2020-02-01  Month-to-month              Yes   \n",
       "\n",
       "      PaymentMethod  MonthlyCharges TotalCharges  gender  SeniorCitizen  ...  \\\n",
       "0      Mailed check            65.6       631.73  Female              0  ...   \n",
       "1      Mailed check            59.9        539.1    Male              0  ...   \n",
       "2  Electronic check            73.9       406.45    Male              0  ...   \n",
       "\n",
       "  InternetService OnlineSecurity OnlineBackup DeviceProtection TechSupport  \\\n",
       "0             DSL             No          Yes               No         Yes   \n",
       "1             DSL             No           No               No          No   \n",
       "2     Fiber optic             No           No              Yes          No   \n",
       "\n",
       "  StreamingTV StreamingMovies MultipleLines target duration_cont  \n",
       "0         Yes              No            No      0           276  \n",
       "1          No             Yes           Yes      0           276  \n",
       "2          No              No            No      0           153  \n",
       "\n",
       "[3 rows x 22 columns]"
      ]
     },
     "metadata": {},
     "output_type": "display_data"
    }
   ],
   "source": [
    "# Создание нового признака: \n",
    "df['BeginDate'] = pd.to_datetime(df['BeginDate'], format='%Y-%m-%d')\n",
    "\n",
    "df['EndDate'] = df.loc[df['EndDate'] == 'No', 'EndDate'] = '2020-02-01'\n",
    "df['EndDate'] = pd.to_datetime(df['EndDate'], format='%Y-%m-%d')\n",
    "\n",
    "df['duration_cont'] = (df['EndDate'] - df['BeginDate']).dt.days\n",
    "\n",
    "display(df.head(3))"
   ]
  },
  {
   "cell_type": "markdown",
   "id": "90087073",
   "metadata": {},
   "source": [
    "Теперь посмотрим корректность записи всех данных."
   ]
  },
  {
   "cell_type": "code",
   "execution_count": 12,
   "id": "be87488a",
   "metadata": {},
   "outputs": [
    {
     "name": "stdout",
     "output_type": "stream",
     "text": [
      "Признак \"customerID\" имеет 7043 уникальных значений:\n",
      "['0002-ORFBO' '0003-MKNFE' '0004-TLHLJ' ... '9992-UJOEL' '9993-LHIEB'\n",
      " '9995-HOTOH'] \n",
      "\n",
      "Признак \"BeginDate\" имеет 77 уникальных значений:\n",
      "<DatetimeArray>\n",
      "['2019-05-01 00:00:00', '2019-09-01 00:00:00', '2018-12-01 00:00:00',\n",
      " '2014-03-01 00:00:00', '2014-11-01 00:00:00', '2019-07-01 00:00:00',\n",
      " '2014-09-01 00:00:00', '2015-08-01 00:00:00', '2014-02-01 00:00:00',\n",
      " '2015-06-01 00:00:00', '2017-04-01 00:00:00', '2020-01-01 00:00:00',\n",
      " '2016-03-01 00:00:00', '2019-10-01 00:00:00', '2015-12-01 00:00:00',\n",
      " '2018-10-01 00:00:00', '2018-03-01 00:00:00', '2019-11-01 00:00:00',\n",
      " '2015-07-01 00:00:00', '2017-12-01 00:00:00', '2014-05-01 00:00:00',\n",
      " '2017-01-01 00:00:00', '2016-01-01 00:00:00', '2014-08-01 00:00:00',\n",
      " '2014-07-01 00:00:00', '2018-06-01 00:00:00', '2016-07-01 00:00:00',\n",
      " '2015-03-01 00:00:00', '2019-02-01 00:00:00', '2017-11-01 00:00:00',\n",
      " '2018-01-01 00:00:00', '2017-09-01 00:00:00', '2017-03-01 00:00:00',\n",
      " '2014-10-01 00:00:00', '2016-11-01 00:00:00', '2016-10-01 00:00:00',\n",
      " '2016-09-01 00:00:00', '2019-08-01 00:00:00', '2017-08-01 00:00:00',\n",
      " '2014-04-01 00:00:00', '2015-05-01 00:00:00', '2015-04-01 00:00:00',\n",
      " '2017-06-01 00:00:00', '2015-10-01 00:00:00', '2017-05-01 00:00:00',\n",
      " '2019-04-01 00:00:00', '2018-02-01 00:00:00', '2015-01-01 00:00:00',\n",
      " '2018-07-01 00:00:00', '2016-06-01 00:00:00', '2018-11-01 00:00:00',\n",
      " '2019-12-01 00:00:00', '2014-12-01 00:00:00', '2019-03-01 00:00:00',\n",
      " '2019-06-01 00:00:00', '2014-01-01 00:00:00', '2016-04-01 00:00:00',\n",
      " '2018-08-01 00:00:00', '2018-04-01 00:00:00', '2015-02-01 00:00:00',\n",
      " '2016-02-01 00:00:00', '2017-07-01 00:00:00', '2019-01-01 00:00:00',\n",
      " '2015-09-01 00:00:00', '2014-06-01 00:00:00', '2018-09-01 00:00:00',\n",
      " '2017-10-01 00:00:00', '2017-02-01 00:00:00', '2015-11-01 00:00:00',\n",
      " '2016-08-01 00:00:00', '2016-05-01 00:00:00', '2018-05-01 00:00:00',\n",
      " '2016-12-01 00:00:00', '2013-10-01 00:00:00', '2020-02-01 00:00:00',\n",
      " '2013-12-01 00:00:00', '2013-11-01 00:00:00']\n",
      "Length: 77, dtype: datetime64[ns] \n",
      "\n",
      "Признак \"EndDate\" имеет 1 уникальных значений:\n",
      "<DatetimeArray>\n",
      "['2020-02-01 00:00:00']\n",
      "Length: 1, dtype: datetime64[ns] \n",
      "\n",
      "Признак \"Type\" имеет 3 уникальных значений:\n",
      "['One year' 'Month-to-month' 'Two year'] \n",
      "\n",
      "Признак \"PaperlessBilling\" имеет 2 уникальных значений:\n",
      "['Yes' 'No'] \n",
      "\n",
      "Признак \"PaymentMethod\" имеет 4 уникальных значений:\n",
      "['Mailed check' 'Electronic check' 'Credit card (automatic)'\n",
      " 'Bank transfer (automatic)'] \n",
      "\n",
      "Признак \"MonthlyCharges\" имеет 1585 уникальных значений:\n",
      "[65.6  59.9  73.9  ... 91.75 68.8  67.85] \n",
      "\n",
      "Признак \"TotalCharges\" имеет 6658 уникальных значений:\n",
      "['631.73' '539.1' '406.45' ... '102.61' '5000.55' '3717.0'] \n",
      "\n",
      "Признак \"gender\" имеет 2 уникальных значений:\n",
      "['Female' 'Male'] \n",
      "\n",
      "Признак \"SeniorCitizen\" имеет 2 уникальных значений:\n",
      "[0 1] \n",
      "\n",
      "Признак \"Partner\" имеет 2 уникальных значений:\n",
      "['Yes' 'No'] \n",
      "\n",
      "Признак \"Dependents\" имеет 2 уникальных значений:\n",
      "['Yes' 'No'] \n",
      "\n",
      "Признак \"InternetService\" имеет 3 уникальных значений:\n",
      "['DSL' 'Fiber optic' 'WT'] \n",
      "\n",
      "Признак \"OnlineSecurity\" имеет 3 уникальных значений:\n",
      "['No' 'Yes' 'WT'] \n",
      "\n",
      "Признак \"OnlineBackup\" имеет 3 уникальных значений:\n",
      "['Yes' 'No' 'WT'] \n",
      "\n",
      "Признак \"DeviceProtection\" имеет 3 уникальных значений:\n",
      "['No' 'Yes' 'WT'] \n",
      "\n",
      "Признак \"TechSupport\" имеет 3 уникальных значений:\n",
      "['Yes' 'No' 'WT'] \n",
      "\n",
      "Признак \"StreamingTV\" имеет 3 уникальных значений:\n",
      "['Yes' 'No' 'WT'] \n",
      "\n",
      "Признак \"StreamingMovies\" имеет 3 уникальных значений:\n",
      "['No' 'Yes' 'WT'] \n",
      "\n",
      "Признак \"MultipleLines\" имеет 3 уникальных значений:\n",
      "['No' 'Yes' 'WI'] \n",
      "\n",
      "Признак \"target\" имеет 2 уникальных значений:\n",
      "[0 1] \n",
      "\n",
      "Признак \"duration_cont\" имеет 77 уникальных значений:\n",
      "[ 276  153  427 2163 1918  215 1979 1645 2191 1706 1036   31 1432  123\n",
      " 1523  488  702   92 1676  792 2102 1126 1492 2010 2041  610 1310 1798\n",
      "  365  822  761  883 1067 1949 1187 1218 1248  184  914 2132 1737 1767\n",
      "  975 1584 1006  306  730 1857  580 1340  457   62 1888  337  245 2222\n",
      " 1401  549  671 1826 1461  945  396 1614 2071  518  853 1095 1553 1279\n",
      " 1371  641 1157 2314    0 2253 2283] \n",
      "\n"
     ]
    }
   ],
   "source": [
    "# Анализ уникальных значений:\n",
    "for i in df.columns:\n",
    "    print(f'Признак \"{i}\" имеет {len(df[i].unique())} уникальных значений:')\n",
    "    print(df[i].unique(), '\\n')"
   ]
  },
  {
   "cell_type": "markdown",
   "id": "d43f571a",
   "metadata": {},
   "source": [
    "Также из подсказки стало понятно, что в столбце \"TotalCharges\" есть пробелы. Заменим их на None и далее удалим эти строки."
   ]
  },
  {
   "cell_type": "code",
   "execution_count": 13,
   "id": "c4b2fc2d",
   "metadata": {},
   "outputs": [],
   "source": [
    "# Поиск ошибок:\n",
    "def maker(row):\n",
    "    if row['TotalCharges'] == ' ':\n",
    "        return None\n",
    "    return row\n",
    "\n",
    "df = df.apply(maker, axis=1)\n",
    "\n",
    "# Изменим тип данных:\n",
    "df['TotalCharges'] = df['TotalCharges'].astype('float64')"
   ]
  },
  {
   "cell_type": "code",
   "execution_count": 14,
   "id": "2132d9a6",
   "metadata": {},
   "outputs": [
    {
     "name": "stdout",
     "output_type": "stream",
     "text": [
      "<class 'pandas.core.frame.DataFrame'>\n",
      "Index: 7032 entries, 0 to 7042\n",
      "Data columns (total 19 columns):\n",
      " #   Column            Non-Null Count  Dtype  \n",
      "---  ------            --------------  -----  \n",
      " 0   Type              7032 non-null   object \n",
      " 1   PaperlessBilling  7032 non-null   object \n",
      " 2   PaymentMethod     7032 non-null   object \n",
      " 3   MonthlyCharges    7032 non-null   float64\n",
      " 4   TotalCharges      7032 non-null   float64\n",
      " 5   gender            7032 non-null   object \n",
      " 6   SeniorCitizen     7032 non-null   float64\n",
      " 7   Partner           7032 non-null   object \n",
      " 8   Dependents        7032 non-null   object \n",
      " 9   InternetService   7032 non-null   object \n",
      " 10  OnlineSecurity    7032 non-null   object \n",
      " 11  OnlineBackup      7032 non-null   object \n",
      " 12  DeviceProtection  7032 non-null   object \n",
      " 13  TechSupport       7032 non-null   object \n",
      " 14  StreamingTV       7032 non-null   object \n",
      " 15  StreamingMovies   7032 non-null   object \n",
      " 16  MultipleLines     7032 non-null   object \n",
      " 17  target            7032 non-null   float64\n",
      " 18  duration_cont     7032 non-null   float64\n",
      "dtypes: float64(5), object(14)\n",
      "memory usage: 1.1+ MB\n"
     ]
    }
   ],
   "source": [
    "# Удаляем все излишки:\n",
    "del df['BeginDate']\n",
    "del df['EndDate'] \n",
    "del df['customerID']\n",
    "\n",
    "df.dropna(inplace=True)\n",
    "df.info()"
   ]
  },
  {
   "cell_type": "code",
   "execution_count": 15,
   "id": "b1ed5787",
   "metadata": {},
   "outputs": [
    {
     "name": "stdout",
     "output_type": "stream",
     "text": [
      "<class 'pandas.core.frame.DataFrame'>\n",
      "Index: 7032 entries, 0 to 7042\n",
      "Data columns (total 19 columns):\n",
      " #   Column            Non-Null Count  Dtype  \n",
      "---  ------            --------------  -----  \n",
      " 0   Type              7032 non-null   object \n",
      " 1   PaperlessBilling  7032 non-null   object \n",
      " 2   PaymentMethod     7032 non-null   object \n",
      " 3   MonthlyCharges    7032 non-null   float64\n",
      " 4   TotalCharges      7032 non-null   float64\n",
      " 5   gender            7032 non-null   object \n",
      " 6   SeniorCitizen     7032 non-null   int64  \n",
      " 7   Partner           7032 non-null   object \n",
      " 8   Dependents        7032 non-null   object \n",
      " 9   InternetService   7032 non-null   object \n",
      " 10  OnlineSecurity    7032 non-null   object \n",
      " 11  OnlineBackup      7032 non-null   object \n",
      " 12  DeviceProtection  7032 non-null   object \n",
      " 13  TechSupport       7032 non-null   object \n",
      " 14  StreamingTV       7032 non-null   object \n",
      " 15  StreamingMovies   7032 non-null   object \n",
      " 16  MultipleLines     7032 non-null   object \n",
      " 17  target            7032 non-null   int64  \n",
      " 18  duration_cont     7032 non-null   int64  \n",
      "dtypes: float64(2), int64(3), object(14)\n",
      "memory usage: 1.1+ MB\n"
     ]
    }
   ],
   "source": [
    "# Изменим типы данных некоторых столбцов:\n",
    "df['SeniorCitizen'] = df['SeniorCitizen'].astype('int64')\n",
    "df['target'] = df['target'].astype('int64')\n",
    "df['duration_cont'] = df['duration_cont'].astype('int64')\n",
    "\n",
    "df.info()"
   ]
  },
  {
   "cell_type": "markdown",
   "id": "45a34162",
   "metadata": {},
   "source": [
    "### Промежуточный вывод:\n",
    "Произведена предобработка данных, в ходе которой были совершены следующие действия:\n",
    "  - объединены исходные датафреймы;\n",
    "  - произведена проверка на дубликаты;\n",
    "  - обработаны типы данных;\n",
    "  - заполнены пропуски;\n",
    "  - добавлены новые признаки;\n",
    "  - удалены лишние столбцы."
   ]
  },
  {
   "cell_type": "markdown",
   "id": "eb923ee7",
   "metadata": {},
   "source": [
    "## Исследовательский анализ данных"
   ]
  },
  {
   "cell_type": "markdown",
   "id": "95ae6d5f",
   "metadata": {},
   "source": [
    "Задача не про анализ данных, но минимальное ознакомление с ними и поиск общих закономерностей необходимы.\n",
    "\n",
    "Прежде всего нас интересует корреляция целевого признака с остальными. Корреляция Пирсона не подойдёт, будем использовать Фи."
   ]
  },
  {
   "cell_type": "code",
   "execution_count": 16,
   "id": "ef331007",
   "metadata": {},
   "outputs": [
    {
     "data": {
      "image/png": "[encoded data removed]",
      "text/plain": [
       "<Figure size 864x720 with 2 Axes>"
      ]
     },
     "metadata": {
      "needs_background": "light"
     },
     "output_type": "display_data"
    }
   ],
   "source": [
    "# Подготовка матрицы корреляции:\n",
    "phik_overview = df.phik_matrix(interval_cols=['MonthlyCharges', 'TotalCharges', 'duration_cont'])\n",
    "phik_overview.round(2)\n",
    "\n",
    "plot_correlation_matrix(phik_overview.values, \n",
    "                        x_labels=phik_overview.columns, \n",
    "                        y_labels=phik_overview.index, \n",
    "                        vmin=0, vmax=1, color_map=\"Blues\", \n",
    "                        title=r\"Корреляция $\\phi_K$\", \n",
    "                        fontsize_factor=0.8, \n",
    "                        figsize=(12, 10))\n",
    "plt.tight_layout()\n",
    "plt.show()"
   ]
  },
  {
   "cell_type": "markdown",
   "id": "9019baf0",
   "metadata": {},
   "source": [
    "Видим, что многие признаки имеют очень слабую связь с целевым. Построим графики зависимостей и рассмотрим их подробнее."
   ]
  },
  {
   "cell_type": "code",
   "execution_count": 17,
   "id": "d2a79375",
   "metadata": {
    "scrolled": true
   },
   "outputs": [
    {
     "name": "stdout",
     "output_type": "stream",
     "text": [
      "Распределение значений признака \"Type\"\n"
     ]
    },
    {
     "data": {
      "text/html": [
       "<div>\n",
       "<style scoped>\n",
       "    .dataframe tbody tr th:only-of-type {\n",
       "        vertical-align: middle;\n",
       "    }\n",
       "\n",
       "    .dataframe tbody tr th {\n",
       "        vertical-align: top;\n",
       "    }\n",
       "\n",
       "    .dataframe thead th {\n",
       "        text-align: right;\n",
       "    }\n",
       "</style>\n",
       "<table border=\"1\" class=\"dataframe\">\n",
       "  <thead>\n",
       "    <tr style=\"text-align: right;\">\n",
       "      <th></th>\n",
       "      <th>count</th>\n",
       "      <th>unique</th>\n",
       "      <th>top</th>\n",
       "      <th>freq</th>\n",
       "    </tr>\n",
       "  </thead>\n",
       "  <tbody>\n",
       "    <tr>\n",
       "      <th>Класс 0</th>\n",
       "      <td>5931</td>\n",
       "      <td>3</td>\n",
       "      <td>Month-to-month</td>\n",
       "      <td>3468</td>\n",
       "    </tr>\n",
       "    <tr>\n",
       "      <th>Класс 1</th>\n",
       "      <td>1101</td>\n",
       "      <td>3</td>\n",
       "      <td>Month-to-month</td>\n",
       "      <td>407</td>\n",
       "    </tr>\n",
       "  </tbody>\n",
       "</table>\n",
       "</div>"
      ],
      "text/plain": [
       "         count  unique             top  freq\n",
       "Класс 0   5931       3  Month-to-month  3468\n",
       "Класс 1   1101       3  Month-to-month   407"
      ]
     },
     "metadata": {},
     "output_type": "display_data"
    },
    {
     "data": {
      "image/png": "[encoded data removed]",
      "text/plain": [
       "<Figure size 1080x720 with 1 Axes>"
      ]
     },
     "metadata": {
      "needs_background": "light"
     },
     "output_type": "display_data"
    },
    {
     "name": "stdout",
     "output_type": "stream",
     "text": [
      "Распределение значений признака \"PaperlessBilling\"\n"
     ]
    },
    {
     "data": {
      "text/html": [
       "<div>\n",
       "<style scoped>\n",
       "    .dataframe tbody tr th:only-of-type {\n",
       "        vertical-align: middle;\n",
       "    }\n",
       "\n",
       "    .dataframe tbody tr th {\n",
       "        vertical-align: top;\n",
       "    }\n",
       "\n",
       "    .dataframe thead th {\n",
       "        text-align: right;\n",
       "    }\n",
       "</style>\n",
       "<table border=\"1\" class=\"dataframe\">\n",
       "  <thead>\n",
       "    <tr style=\"text-align: right;\">\n",
       "      <th></th>\n",
       "      <th>count</th>\n",
       "      <th>unique</th>\n",
       "      <th>top</th>\n",
       "      <th>freq</th>\n",
       "    </tr>\n",
       "  </thead>\n",
       "  <tbody>\n",
       "    <tr>\n",
       "      <th>Класс 0</th>\n",
       "      <td>5931</td>\n",
       "      <td>2</td>\n",
       "      <td>Yes</td>\n",
       "      <td>3447</td>\n",
       "    </tr>\n",
       "    <tr>\n",
       "      <th>Класс 1</th>\n",
       "      <td>1101</td>\n",
       "      <td>2</td>\n",
       "      <td>Yes</td>\n",
       "      <td>721</td>\n",
       "    </tr>\n",
       "  </tbody>\n",
       "</table>\n",
       "</div>"
      ],
      "text/plain": [
       "         count  unique  top  freq\n",
       "Класс 0   5931       2  Yes  3447\n",
       "Класс 1   1101       2  Yes   721"
      ]
     },
     "metadata": {},
     "output_type": "display_data"
    },
    {
     "data": {
      "image/png": "[encoded data removed]",
      "text/plain": [
       "<Figure size 1080x720 with 1 Axes>"
      ]
     },
     "metadata": {
      "needs_background": "light"
     },
     "output_type": "display_data"
    },
    {
     "name": "stdout",
     "output_type": "stream",
     "text": [
      "Распределение значений признака \"PaymentMethod\"\n"
     ]
    },
    {
     "data": {
      "text/html": [
       "<div>\n",
       "<style scoped>\n",
       "    .dataframe tbody tr th:only-of-type {\n",
       "        vertical-align: middle;\n",
       "    }\n",
       "\n",
       "    .dataframe tbody tr th {\n",
       "        vertical-align: top;\n",
       "    }\n",
       "\n",
       "    .dataframe thead th {\n",
       "        text-align: right;\n",
       "    }\n",
       "</style>\n",
       "<table border=\"1\" class=\"dataframe\">\n",
       "  <thead>\n",
       "    <tr style=\"text-align: right;\">\n",
       "      <th></th>\n",
       "      <th>count</th>\n",
       "      <th>unique</th>\n",
       "      <th>top</th>\n",
       "      <th>freq</th>\n",
       "    </tr>\n",
       "  </thead>\n",
       "  <tbody>\n",
       "    <tr>\n",
       "      <th>Класс 0</th>\n",
       "      <td>5931</td>\n",
       "      <td>4</td>\n",
       "      <td>Electronic check</td>\n",
       "      <td>2015</td>\n",
       "    </tr>\n",
       "    <tr>\n",
       "      <th>Класс 1</th>\n",
       "      <td>1101</td>\n",
       "      <td>4</td>\n",
       "      <td>Electronic check</td>\n",
       "      <td>350</td>\n",
       "    </tr>\n",
       "  </tbody>\n",
       "</table>\n",
       "</div>"
      ],
      "text/plain": [
       "         count  unique               top  freq\n",
       "Класс 0   5931       4  Electronic check  2015\n",
       "Класс 1   1101       4  Electronic check   350"
      ]
     },
     "metadata": {},
     "output_type": "display_data"
    },
    {
     "data": {
      "image/png": "[encoded data removed]",
      "text/plain": [
       "<Figure size 1080x720 with 1 Axes>"
      ]
     },
     "metadata": {
      "needs_background": "light"
     },
     "output_type": "display_data"
    },
    {
     "name": "stdout",
     "output_type": "stream",
     "text": [
      "Распределение значений признака \"MonthlyCharges\"\n"
     ]
    },
    {
     "data": {
      "text/html": [
       "<div>\n",
       "<style scoped>\n",
       "    .dataframe tbody tr th:only-of-type {\n",
       "        vertical-align: middle;\n",
       "    }\n",
       "\n",
       "    .dataframe tbody tr th {\n",
       "        vertical-align: top;\n",
       "    }\n",
       "\n",
       "    .dataframe thead th {\n",
       "        text-align: right;\n",
       "    }\n",
       "</style>\n",
       "<table border=\"1\" class=\"dataframe\">\n",
       "  <thead>\n",
       "    <tr style=\"text-align: right;\">\n",
       "      <th></th>\n",
       "      <th>count</th>\n",
       "      <th>mean</th>\n",
       "      <th>std</th>\n",
       "      <th>min</th>\n",
       "      <th>25%</th>\n",
       "      <th>50%</th>\n",
       "      <th>75%</th>\n",
       "      <th>max</th>\n",
       "    </tr>\n",
       "  </thead>\n",
       "  <tbody>\n",
       "    <tr>\n",
       "      <th>Класс 0</th>\n",
       "      <td>5931.0</td>\n",
       "      <td>62.803043</td>\n",
       "      <td>29.841911</td>\n",
       "      <td>18.25</td>\n",
       "      <td>30.125</td>\n",
       "      <td>69.25</td>\n",
       "      <td>87.325</td>\n",
       "      <td>118.60</td>\n",
       "    </tr>\n",
       "    <tr>\n",
       "      <th>Класс 1</th>\n",
       "      <td>1101.0</td>\n",
       "      <td>75.546004</td>\n",
       "      <td>29.116213</td>\n",
       "      <td>18.40</td>\n",
       "      <td>56.150</td>\n",
       "      <td>84.20</td>\n",
       "      <td>99.500</td>\n",
       "      <td>118.75</td>\n",
       "    </tr>\n",
       "  </tbody>\n",
       "</table>\n",
       "</div>"
      ],
      "text/plain": [
       "          count       mean        std    min     25%    50%     75%     max\n",
       "Класс 0  5931.0  62.803043  29.841911  18.25  30.125  69.25  87.325  118.60\n",
       "Класс 1  1101.0  75.546004  29.116213  18.40  56.150  84.20  99.500  118.75"
      ]
     },
     "metadata": {},
     "output_type": "display_data"
    },
    {
     "data": {
      "image/png": "[encoded data removed]",
      "text/plain": [
       "<Figure size 1080x720 with 1 Axes>"
      ]
     },
     "metadata": {
      "needs_background": "light"
     },
     "output_type": "display_data"
    },
    {
     "name": "stdout",
     "output_type": "stream",
     "text": [
      "Распределение значений признака \"TotalCharges\"\n"
     ]
    },
    {
     "data": {
      "text/html": [
       "<div>\n",
       "<style scoped>\n",
       "    .dataframe tbody tr th:only-of-type {\n",
       "        vertical-align: middle;\n",
       "    }\n",
       "\n",
       "    .dataframe tbody tr th {\n",
       "        vertical-align: top;\n",
       "    }\n",
       "\n",
       "    .dataframe thead th {\n",
       "        text-align: right;\n",
       "    }\n",
       "</style>\n",
       "<table border=\"1\" class=\"dataframe\">\n",
       "  <thead>\n",
       "    <tr style=\"text-align: right;\">\n",
       "      <th></th>\n",
       "      <th>count</th>\n",
       "      <th>mean</th>\n",
       "      <th>std</th>\n",
       "      <th>min</th>\n",
       "      <th>25%</th>\n",
       "      <th>50%</th>\n",
       "      <th>75%</th>\n",
       "      <th>max</th>\n",
       "    </tr>\n",
       "  </thead>\n",
       "  <tbody>\n",
       "    <tr>\n",
       "      <th>Класс 0</th>\n",
       "      <td>5931.0</td>\n",
       "      <td>2071.701614</td>\n",
       "      <td>2194.122190</td>\n",
       "      <td>19.05</td>\n",
       "      <td>376.225</td>\n",
       "      <td>1194.28</td>\n",
       "      <td>3176.00</td>\n",
       "      <td>9221.38</td>\n",
       "    </tr>\n",
       "    <tr>\n",
       "      <th>Класс 1</th>\n",
       "      <td>1101.0</td>\n",
       "      <td>2371.377275</td>\n",
       "      <td>1581.862275</td>\n",
       "      <td>77.84</td>\n",
       "      <td>1048.050</td>\n",
       "      <td>2139.03</td>\n",
       "      <td>3404.91</td>\n",
       "      <td>7649.76</td>\n",
       "    </tr>\n",
       "  </tbody>\n",
       "</table>\n",
       "</div>"
      ],
      "text/plain": [
       "          count         mean          std    min       25%      50%      75%  \\\n",
       "Класс 0  5931.0  2071.701614  2194.122190  19.05   376.225  1194.28  3176.00   \n",
       "Класс 1  1101.0  2371.377275  1581.862275  77.84  1048.050  2139.03  3404.91   \n",
       "\n",
       "             max  \n",
       "Класс 0  9221.38  \n",
       "Класс 1  7649.76  "
      ]
     },
     "metadata": {},
     "output_type": "display_data"
    },
    {
     "data": {
      "image/png": "[encoded data removed]",
      "text/plain": [
       "<Figure size 1080x720 with 1 Axes>"
      ]
     },
     "metadata": {
      "needs_background": "light"
     },
     "output_type": "display_data"
    },
    {
     "name": "stdout",
     "output_type": "stream",
     "text": [
      "Распределение значений признака \"gender\"\n"
     ]
    },
    {
     "data": {
      "text/html": [
       "<div>\n",
       "<style scoped>\n",
       "    .dataframe tbody tr th:only-of-type {\n",
       "        vertical-align: middle;\n",
       "    }\n",
       "\n",
       "    .dataframe tbody tr th {\n",
       "        vertical-align: top;\n",
       "    }\n",
       "\n",
       "    .dataframe thead th {\n",
       "        text-align: right;\n",
       "    }\n",
       "</style>\n",
       "<table border=\"1\" class=\"dataframe\">\n",
       "  <thead>\n",
       "    <tr style=\"text-align: right;\">\n",
       "      <th></th>\n",
       "      <th>count</th>\n",
       "      <th>unique</th>\n",
       "      <th>top</th>\n",
       "      <th>freq</th>\n",
       "    </tr>\n",
       "  </thead>\n",
       "  <tbody>\n",
       "    <tr>\n",
       "      <th>Класс 0</th>\n",
       "      <td>5931</td>\n",
       "      <td>2</td>\n",
       "      <td>Male</td>\n",
       "      <td>2976</td>\n",
       "    </tr>\n",
       "    <tr>\n",
       "      <th>Класс 1</th>\n",
       "      <td>1101</td>\n",
       "      <td>2</td>\n",
       "      <td>Male</td>\n",
       "      <td>573</td>\n",
       "    </tr>\n",
       "  </tbody>\n",
       "</table>\n",
       "</div>"
      ],
      "text/plain": [
       "         count  unique   top  freq\n",
       "Класс 0   5931       2  Male  2976\n",
       "Класс 1   1101       2  Male   573"
      ]
     },
     "metadata": {},
     "output_type": "display_data"
    },
    {
     "data": {
      "image/png": "[encoded data removed]",
      "text/plain": [
       "<Figure size 1080x720 with 1 Axes>"
      ]
     },
     "metadata": {
      "needs_background": "light"
     },
     "output_type": "display_data"
    },
    {
     "name": "stdout",
     "output_type": "stream",
     "text": [
      "Распределение значений признака \"SeniorCitizen\"\n"
     ]
    },
    {
     "data": {
      "text/html": [
       "<div>\n",
       "<style scoped>\n",
       "    .dataframe tbody tr th:only-of-type {\n",
       "        vertical-align: middle;\n",
       "    }\n",
       "\n",
       "    .dataframe tbody tr th {\n",
       "        vertical-align: top;\n",
       "    }\n",
       "\n",
       "    .dataframe thead th {\n",
       "        text-align: right;\n",
       "    }\n",
       "</style>\n",
       "<table border=\"1\" class=\"dataframe\">\n",
       "  <thead>\n",
       "    <tr style=\"text-align: right;\">\n",
       "      <th></th>\n",
       "      <th>count</th>\n",
       "      <th>mean</th>\n",
       "      <th>std</th>\n",
       "      <th>min</th>\n",
       "      <th>25%</th>\n",
       "      <th>50%</th>\n",
       "      <th>75%</th>\n",
       "      <th>max</th>\n",
       "    </tr>\n",
       "  </thead>\n",
       "  <tbody>\n",
       "    <tr>\n",
       "      <th>Класс 0</th>\n",
       "      <td>5931.0</td>\n",
       "      <td>0.153431</td>\n",
       "      <td>0.360433</td>\n",
       "      <td>0.0</td>\n",
       "      <td>0.0</td>\n",
       "      <td>0.0</td>\n",
       "      <td>0.0</td>\n",
       "      <td>1.0</td>\n",
       "    </tr>\n",
       "    <tr>\n",
       "      <th>Класс 1</th>\n",
       "      <td>1101.0</td>\n",
       "      <td>0.210718</td>\n",
       "      <td>0.408003</td>\n",
       "      <td>0.0</td>\n",
       "      <td>0.0</td>\n",
       "      <td>0.0</td>\n",
       "      <td>0.0</td>\n",
       "      <td>1.0</td>\n",
       "    </tr>\n",
       "  </tbody>\n",
       "</table>\n",
       "</div>"
      ],
      "text/plain": [
       "          count      mean       std  min  25%  50%  75%  max\n",
       "Класс 0  5931.0  0.153431  0.360433  0.0  0.0  0.0  0.0  1.0\n",
       "Класс 1  1101.0  0.210718  0.408003  0.0  0.0  0.0  0.0  1.0"
      ]
     },
     "metadata": {},
     "output_type": "display_data"
    },
    {
     "data": {
      "image/png": "[encoded data removed]",
      "text/plain": [
       "<Figure size 1080x720 with 1 Axes>"
      ]
     },
     "metadata": {
      "needs_background": "light"
     },
     "output_type": "display_data"
    },
    {
     "name": "stdout",
     "output_type": "stream",
     "text": [
      "Распределение значений признака \"Partner\"\n"
     ]
    },
    {
     "data": {
      "text/html": [
       "<div>\n",
       "<style scoped>\n",
       "    .dataframe tbody tr th:only-of-type {\n",
       "        vertical-align: middle;\n",
       "    }\n",
       "\n",
       "    .dataframe tbody tr th {\n",
       "        vertical-align: top;\n",
       "    }\n",
       "\n",
       "    .dataframe thead th {\n",
       "        text-align: right;\n",
       "    }\n",
       "</style>\n",
       "<table border=\"1\" class=\"dataframe\">\n",
       "  <thead>\n",
       "    <tr style=\"text-align: right;\">\n",
       "      <th></th>\n",
       "      <th>count</th>\n",
       "      <th>unique</th>\n",
       "      <th>top</th>\n",
       "      <th>freq</th>\n",
       "    </tr>\n",
       "  </thead>\n",
       "  <tbody>\n",
       "    <tr>\n",
       "      <th>Класс 0</th>\n",
       "      <td>5931</td>\n",
       "      <td>2</td>\n",
       "      <td>No</td>\n",
       "      <td>3257</td>\n",
       "    </tr>\n",
       "    <tr>\n",
       "      <th>Класс 1</th>\n",
       "      <td>1101</td>\n",
       "      <td>2</td>\n",
       "      <td>Yes</td>\n",
       "      <td>719</td>\n",
       "    </tr>\n",
       "  </tbody>\n",
       "</table>\n",
       "</div>"
      ],
      "text/plain": [
       "         count  unique  top  freq\n",
       "Класс 0   5931       2   No  3257\n",
       "Класс 1   1101       2  Yes   719"
      ]
     },
     "metadata": {},
     "output_type": "display_data"
    },
    {
     "data": {
      "image/png": "[encoded data removed]",
      "text/plain": [
       "<Figure size 1080x720 with 1 Axes>"
      ]
     },
     "metadata": {
      "needs_background": "light"
     },
     "output_type": "display_data"
    },
    {
     "name": "stdout",
     "output_type": "stream",
     "text": [
      "Распределение значений признака \"Dependents\"\n"
     ]
    },
    {
     "data": {
      "text/html": [
       "<div>\n",
       "<style scoped>\n",
       "    .dataframe tbody tr th:only-of-type {\n",
       "        vertical-align: middle;\n",
       "    }\n",
       "\n",
       "    .dataframe tbody tr th {\n",
       "        vertical-align: top;\n",
       "    }\n",
       "\n",
       "    .dataframe thead th {\n",
       "        text-align: right;\n",
       "    }\n",
       "</style>\n",
       "<table border=\"1\" class=\"dataframe\">\n",
       "  <thead>\n",
       "    <tr style=\"text-align: right;\">\n",
       "      <th></th>\n",
       "      <th>count</th>\n",
       "      <th>unique</th>\n",
       "      <th>top</th>\n",
       "      <th>freq</th>\n",
       "    </tr>\n",
       "  </thead>\n",
       "  <tbody>\n",
       "    <tr>\n",
       "      <th>Класс 0</th>\n",
       "      <td>5931</td>\n",
       "      <td>2</td>\n",
       "      <td>No</td>\n",
       "      <td>4200</td>\n",
       "    </tr>\n",
       "    <tr>\n",
       "      <th>Класс 1</th>\n",
       "      <td>1101</td>\n",
       "      <td>2</td>\n",
       "      <td>No</td>\n",
       "      <td>733</td>\n",
       "    </tr>\n",
       "  </tbody>\n",
       "</table>\n",
       "</div>"
      ],
      "text/plain": [
       "         count  unique top  freq\n",
       "Класс 0   5931       2  No  4200\n",
       "Класс 1   1101       2  No   733"
      ]
     },
     "metadata": {},
     "output_type": "display_data"
    },
    {
     "data": {
      "image/png": "[encoded data removed]",
      "text/plain": [
       "<Figure size 1080x720 with 1 Axes>"
      ]
     },
     "metadata": {
      "needs_background": "light"
     },
     "output_type": "display_data"
    },
    {
     "name": "stdout",
     "output_type": "stream",
     "text": [
      "Распределение значений признака \"InternetService\"\n"
     ]
    },
    {
     "data": {
      "text/html": [
       "<div>\n",
       "<style scoped>\n",
       "    .dataframe tbody tr th:only-of-type {\n",
       "        vertical-align: middle;\n",
       "    }\n",
       "\n",
       "    .dataframe tbody tr th {\n",
       "        vertical-align: top;\n",
       "    }\n",
       "\n",
       "    .dataframe thead th {\n",
       "        text-align: right;\n",
       "    }\n",
       "</style>\n",
       "<table border=\"1\" class=\"dataframe\">\n",
       "  <thead>\n",
       "    <tr style=\"text-align: right;\">\n",
       "      <th></th>\n",
       "      <th>count</th>\n",
       "      <th>unique</th>\n",
       "      <th>top</th>\n",
       "      <th>freq</th>\n",
       "    </tr>\n",
       "  </thead>\n",
       "  <tbody>\n",
       "    <tr>\n",
       "      <th>Класс 0</th>\n",
       "      <td>5931</td>\n",
       "      <td>3</td>\n",
       "      <td>Fiber optic</td>\n",
       "      <td>2501</td>\n",
       "    </tr>\n",
       "    <tr>\n",
       "      <th>Класс 1</th>\n",
       "      <td>1101</td>\n",
       "      <td>3</td>\n",
       "      <td>Fiber optic</td>\n",
       "      <td>595</td>\n",
       "    </tr>\n",
       "  </tbody>\n",
       "</table>\n",
       "</div>"
      ],
      "text/plain": [
       "         count  unique          top  freq\n",
       "Класс 0   5931       3  Fiber optic  2501\n",
       "Класс 1   1101       3  Fiber optic   595"
      ]
     },
     "metadata": {},
     "output_type": "display_data"
    },
    {
     "data": {
      "image/png": "[encoded data removed]",
      "text/plain": [
       "<Figure size 1080x720 with 1 Axes>"
      ]
     },
     "metadata": {
      "needs_background": "light"
     },
     "output_type": "display_data"
    },
    {
     "name": "stdout",
     "output_type": "stream",
     "text": [
      "Распределение значений признака \"OnlineSecurity\"\n"
     ]
    },
    {
     "data": {
      "text/html": [
       "<div>\n",
       "<style scoped>\n",
       "    .dataframe tbody tr th:only-of-type {\n",
       "        vertical-align: middle;\n",
       "    }\n",
       "\n",
       "    .dataframe tbody tr th {\n",
       "        vertical-align: top;\n",
       "    }\n",
       "\n",
       "    .dataframe thead th {\n",
       "        text-align: right;\n",
       "    }\n",
       "</style>\n",
       "<table border=\"1\" class=\"dataframe\">\n",
       "  <thead>\n",
       "    <tr style=\"text-align: right;\">\n",
       "      <th></th>\n",
       "      <th>count</th>\n",
       "      <th>unique</th>\n",
       "      <th>top</th>\n",
       "      <th>freq</th>\n",
       "    </tr>\n",
       "  </thead>\n",
       "  <tbody>\n",
       "    <tr>\n",
       "      <th>Класс 0</th>\n",
       "      <td>5931</td>\n",
       "      <td>3</td>\n",
       "      <td>No</td>\n",
       "      <td>2971</td>\n",
       "    </tr>\n",
       "    <tr>\n",
       "      <th>Класс 1</th>\n",
       "      <td>1101</td>\n",
       "      <td>3</td>\n",
       "      <td>No</td>\n",
       "      <td>526</td>\n",
       "    </tr>\n",
       "  </tbody>\n",
       "</table>\n",
       "</div>"
      ],
      "text/plain": [
       "         count  unique top  freq\n",
       "Класс 0   5931       3  No  2971\n",
       "Класс 1   1101       3  No   526"
      ]
     },
     "metadata": {},
     "output_type": "display_data"
    },
    {
     "data": {
      "image/png": "[encoded data removed]",
      "text/plain": [
       "<Figure size 1080x720 with 1 Axes>"
      ]
     },
     "metadata": {
      "needs_background": "light"
     },
     "output_type": "display_data"
    },
    {
     "name": "stdout",
     "output_type": "stream",
     "text": [
      "Распределение значений признака \"OnlineBackup\"\n"
     ]
    },
    {
     "data": {
      "text/html": [
       "<div>\n",
       "<style scoped>\n",
       "    .dataframe tbody tr th:only-of-type {\n",
       "        vertical-align: middle;\n",
       "    }\n",
       "\n",
       "    .dataframe tbody tr th {\n",
       "        vertical-align: top;\n",
       "    }\n",
       "\n",
       "    .dataframe thead th {\n",
       "        text-align: right;\n",
       "    }\n",
       "</style>\n",
       "<table border=\"1\" class=\"dataframe\">\n",
       "  <thead>\n",
       "    <tr style=\"text-align: right;\">\n",
       "      <th></th>\n",
       "      <th>count</th>\n",
       "      <th>unique</th>\n",
       "      <th>top</th>\n",
       "      <th>freq</th>\n",
       "    </tr>\n",
       "  </thead>\n",
       "  <tbody>\n",
       "    <tr>\n",
       "      <th>Класс 0</th>\n",
       "      <td>5931</td>\n",
       "      <td>3</td>\n",
       "      <td>No</td>\n",
       "      <td>2706</td>\n",
       "    </tr>\n",
       "    <tr>\n",
       "      <th>Класс 1</th>\n",
       "      <td>1101</td>\n",
       "      <td>3</td>\n",
       "      <td>Yes</td>\n",
       "      <td>560</td>\n",
       "    </tr>\n",
       "  </tbody>\n",
       "</table>\n",
       "</div>"
      ],
      "text/plain": [
       "         count  unique  top  freq\n",
       "Класс 0   5931       3   No  2706\n",
       "Класс 1   1101       3  Yes   560"
      ]
     },
     "metadata": {},
     "output_type": "display_data"
    },
    {
     "data": {
      "image/png": "[encoded data removed]",
      "text/plain": [
       "<Figure size 1080x720 with 1 Axes>"
      ]
     },
     "metadata": {
      "needs_background": "light"
     },
     "output_type": "display_data"
    },
    {
     "name": "stdout",
     "output_type": "stream",
     "text": [
      "Распределение значений признака \"DeviceProtection\"\n"
     ]
    },
    {
     "data": {
      "text/html": [
       "<div>\n",
       "<style scoped>\n",
       "    .dataframe tbody tr th:only-of-type {\n",
       "        vertical-align: middle;\n",
       "    }\n",
       "\n",
       "    .dataframe tbody tr th {\n",
       "        vertical-align: top;\n",
       "    }\n",
       "\n",
       "    .dataframe thead th {\n",
       "        text-align: right;\n",
       "    }\n",
       "</style>\n",
       "<table border=\"1\" class=\"dataframe\">\n",
       "  <thead>\n",
       "    <tr style=\"text-align: right;\">\n",
       "      <th></th>\n",
       "      <th>count</th>\n",
       "      <th>unique</th>\n",
       "      <th>top</th>\n",
       "      <th>freq</th>\n",
       "    </tr>\n",
       "  </thead>\n",
       "  <tbody>\n",
       "    <tr>\n",
       "      <th>Класс 0</th>\n",
       "      <td>5931</td>\n",
       "      <td>3</td>\n",
       "      <td>No</td>\n",
       "      <td>2703</td>\n",
       "    </tr>\n",
       "    <tr>\n",
       "      <th>Класс 1</th>\n",
       "      <td>1101</td>\n",
       "      <td>3</td>\n",
       "      <td>Yes</td>\n",
       "      <td>550</td>\n",
       "    </tr>\n",
       "  </tbody>\n",
       "</table>\n",
       "</div>"
      ],
      "text/plain": [
       "         count  unique  top  freq\n",
       "Класс 0   5931       3   No  2703\n",
       "Класс 1   1101       3  Yes   550"
      ]
     },
     "metadata": {},
     "output_type": "display_data"
    },
    {
     "data": {
      "image/png": "[encoded data removed]",
      "text/plain": [
       "<Figure size 1080x720 with 1 Axes>"
      ]
     },
     "metadata": {
      "needs_background": "light"
     },
     "output_type": "display_data"
    },
    {
     "name": "stdout",
     "output_type": "stream",
     "text": [
      "Распределение значений признака \"TechSupport\"\n"
     ]
    },
    {
     "data": {
      "text/html": [
       "<div>\n",
       "<style scoped>\n",
       "    .dataframe tbody tr th:only-of-type {\n",
       "        vertical-align: middle;\n",
       "    }\n",
       "\n",
       "    .dataframe tbody tr th {\n",
       "        vertical-align: top;\n",
       "    }\n",
       "\n",
       "    .dataframe thead th {\n",
       "        text-align: right;\n",
       "    }\n",
       "</style>\n",
       "<table border=\"1\" class=\"dataframe\">\n",
       "  <thead>\n",
       "    <tr style=\"text-align: right;\">\n",
       "      <th></th>\n",
       "      <th>count</th>\n",
       "      <th>unique</th>\n",
       "      <th>top</th>\n",
       "      <th>freq</th>\n",
       "    </tr>\n",
       "  </thead>\n",
       "  <tbody>\n",
       "    <tr>\n",
       "      <th>Класс 0</th>\n",
       "      <td>5931</td>\n",
       "      <td>3</td>\n",
       "      <td>No</td>\n",
       "      <td>2929</td>\n",
       "    </tr>\n",
       "    <tr>\n",
       "      <th>Класс 1</th>\n",
       "      <td>1101</td>\n",
       "      <td>3</td>\n",
       "      <td>No</td>\n",
       "      <td>543</td>\n",
       "    </tr>\n",
       "  </tbody>\n",
       "</table>\n",
       "</div>"
      ],
      "text/plain": [
       "         count  unique top  freq\n",
       "Класс 0   5931       3  No  2929\n",
       "Класс 1   1101       3  No   543"
      ]
     },
     "metadata": {},
     "output_type": "display_data"
    },
    {
     "data": {
      "image/png": "[encoded data removed]",
      "text/plain": [
       "<Figure size 1080x720 with 1 Axes>"
      ]
     },
     "metadata": {
      "needs_background": "light"
     },
     "output_type": "display_data"
    },
    {
     "name": "stdout",
     "output_type": "stream",
     "text": [
      "Распределение значений признака \"StreamingTV\"\n"
     ]
    },
    {
     "data": {
      "text/html": [
       "<div>\n",
       "<style scoped>\n",
       "    .dataframe tbody tr th:only-of-type {\n",
       "        vertical-align: middle;\n",
       "    }\n",
       "\n",
       "    .dataframe tbody tr th {\n",
       "        vertical-align: top;\n",
       "    }\n",
       "\n",
       "    .dataframe thead th {\n",
       "        text-align: right;\n",
       "    }\n",
       "</style>\n",
       "<table border=\"1\" class=\"dataframe\">\n",
       "  <thead>\n",
       "    <tr style=\"text-align: right;\">\n",
       "      <th></th>\n",
       "      <th>count</th>\n",
       "      <th>unique</th>\n",
       "      <th>top</th>\n",
       "      <th>freq</th>\n",
       "    </tr>\n",
       "  </thead>\n",
       "  <tbody>\n",
       "    <tr>\n",
       "      <th>Класс 0</th>\n",
       "      <td>5931</td>\n",
       "      <td>3</td>\n",
       "      <td>No</td>\n",
       "      <td>2452</td>\n",
       "    </tr>\n",
       "    <tr>\n",
       "      <th>Класс 1</th>\n",
       "      <td>1101</td>\n",
       "      <td>3</td>\n",
       "      <td>Yes</td>\n",
       "      <td>584</td>\n",
       "    </tr>\n",
       "  </tbody>\n",
       "</table>\n",
       "</div>"
      ],
      "text/plain": [
       "         count  unique  top  freq\n",
       "Класс 0   5931       3   No  2452\n",
       "Класс 1   1101       3  Yes   584"
      ]
     },
     "metadata": {},
     "output_type": "display_data"
    },
    {
     "data": {
      "image/png": "[encoded data removed]",
      "text/plain": [
       "<Figure size 1080x720 with 1 Axes>"
      ]
     },
     "metadata": {
      "needs_background": "light"
     },
     "output_type": "display_data"
    },
    {
     "name": "stdout",
     "output_type": "stream",
     "text": [
      "Распределение значений признака \"StreamingMovies\"\n"
     ]
    },
    {
     "data": {
      "text/html": [
       "<div>\n",
       "<style scoped>\n",
       "    .dataframe tbody tr th:only-of-type {\n",
       "        vertical-align: middle;\n",
       "    }\n",
       "\n",
       "    .dataframe tbody tr th {\n",
       "        vertical-align: top;\n",
       "    }\n",
       "\n",
       "    .dataframe thead th {\n",
       "        text-align: right;\n",
       "    }\n",
       "</style>\n",
       "<table border=\"1\" class=\"dataframe\">\n",
       "  <thead>\n",
       "    <tr style=\"text-align: right;\">\n",
       "      <th></th>\n",
       "      <th>count</th>\n",
       "      <th>unique</th>\n",
       "      <th>top</th>\n",
       "      <th>freq</th>\n",
       "    </tr>\n",
       "  </thead>\n",
       "  <tbody>\n",
       "    <tr>\n",
       "      <th>Класс 0</th>\n",
       "      <td>5931</td>\n",
       "      <td>3</td>\n",
       "      <td>No</td>\n",
       "      <td>2446</td>\n",
       "    </tr>\n",
       "    <tr>\n",
       "      <th>Класс 1</th>\n",
       "      <td>1101</td>\n",
       "      <td>3</td>\n",
       "      <td>Yes</td>\n",
       "      <td>606</td>\n",
       "    </tr>\n",
       "  </tbody>\n",
       "</table>\n",
       "</div>"
      ],
      "text/plain": [
       "         count  unique  top  freq\n",
       "Класс 0   5931       3   No  2446\n",
       "Класс 1   1101       3  Yes   606"
      ]
     },
     "metadata": {},
     "output_type": "display_data"
    },
    {
     "data": {
      "image/png": "[encoded data removed]",
      "text/plain": [
       "<Figure size 1080x720 with 1 Axes>"
      ]
     },
     "metadata": {
      "needs_background": "light"
     },
     "output_type": "display_data"
    },
    {
     "name": "stdout",
     "output_type": "stream",
     "text": [
      "Распределение значений признака \"MultipleLines\"\n"
     ]
    },
    {
     "data": {
      "text/html": [
       "<div>\n",
       "<style scoped>\n",
       "    .dataframe tbody tr th:only-of-type {\n",
       "        vertical-align: middle;\n",
       "    }\n",
       "\n",
       "    .dataframe tbody tr th {\n",
       "        vertical-align: top;\n",
       "    }\n",
       "\n",
       "    .dataframe thead th {\n",
       "        text-align: right;\n",
       "    }\n",
       "</style>\n",
       "<table border=\"1\" class=\"dataframe\">\n",
       "  <thead>\n",
       "    <tr style=\"text-align: right;\">\n",
       "      <th></th>\n",
       "      <th>count</th>\n",
       "      <th>unique</th>\n",
       "      <th>top</th>\n",
       "      <th>freq</th>\n",
       "    </tr>\n",
       "  </thead>\n",
       "  <tbody>\n",
       "    <tr>\n",
       "      <th>Класс 0</th>\n",
       "      <td>5931</td>\n",
       "      <td>3</td>\n",
       "      <td>No</td>\n",
       "      <td>3065</td>\n",
       "    </tr>\n",
       "    <tr>\n",
       "      <th>Класс 1</th>\n",
       "      <td>1101</td>\n",
       "      <td>3</td>\n",
       "      <td>Yes</td>\n",
       "      <td>678</td>\n",
       "    </tr>\n",
       "  </tbody>\n",
       "</table>\n",
       "</div>"
      ],
      "text/plain": [
       "         count  unique  top  freq\n",
       "Класс 0   5931       3   No  3065\n",
       "Класс 1   1101       3  Yes   678"
      ]
     },
     "metadata": {},
     "output_type": "display_data"
    },
    {
     "data": {
      "image/png": "[encoded data removed]",
      "text/plain": [
       "<Figure size 1080x720 with 1 Axes>"
      ]
     },
     "metadata": {
      "needs_background": "light"
     },
     "output_type": "display_data"
    },
    {
     "name": "stdout",
     "output_type": "stream",
     "text": [
      "Распределение значений признака \"target\"\n"
     ]
    },
    {
     "data": {
      "text/html": [
       "<div>\n",
       "<style scoped>\n",
       "    .dataframe tbody tr th:only-of-type {\n",
       "        vertical-align: middle;\n",
       "    }\n",
       "\n",
       "    .dataframe tbody tr th {\n",
       "        vertical-align: top;\n",
       "    }\n",
       "\n",
       "    .dataframe thead th {\n",
       "        text-align: right;\n",
       "    }\n",
       "</style>\n",
       "<table border=\"1\" class=\"dataframe\">\n",
       "  <thead>\n",
       "    <tr style=\"text-align: right;\">\n",
       "      <th></th>\n",
       "      <th>count</th>\n",
       "      <th>mean</th>\n",
       "      <th>std</th>\n",
       "      <th>min</th>\n",
       "      <th>25%</th>\n",
       "      <th>50%</th>\n",
       "      <th>75%</th>\n",
       "      <th>max</th>\n",
       "    </tr>\n",
       "  </thead>\n",
       "  <tbody>\n",
       "    <tr>\n",
       "      <th>Класс 0</th>\n",
       "      <td>5931.0</td>\n",
       "      <td>0.0</td>\n",
       "      <td>0.0</td>\n",
       "      <td>0.0</td>\n",
       "      <td>0.0</td>\n",
       "      <td>0.0</td>\n",
       "      <td>0.0</td>\n",
       "      <td>0.0</td>\n",
       "    </tr>\n",
       "    <tr>\n",
       "      <th>Класс 1</th>\n",
       "      <td>1101.0</td>\n",
       "      <td>1.0</td>\n",
       "      <td>0.0</td>\n",
       "      <td>1.0</td>\n",
       "      <td>1.0</td>\n",
       "      <td>1.0</td>\n",
       "      <td>1.0</td>\n",
       "      <td>1.0</td>\n",
       "    </tr>\n",
       "  </tbody>\n",
       "</table>\n",
       "</div>"
      ],
      "text/plain": [
       "          count  mean  std  min  25%  50%  75%  max\n",
       "Класс 0  5931.0   0.0  0.0  0.0  0.0  0.0  0.0  0.0\n",
       "Класс 1  1101.0   1.0  0.0  1.0  1.0  1.0  1.0  1.0"
      ]
     },
     "metadata": {},
     "output_type": "display_data"
    },
    {
     "data": {
      "image/png": "[encoded data removed]",
      "text/plain": [
       "<Figure size 1080x720 with 1 Axes>"
      ]
     },
     "metadata": {
      "needs_background": "light"
     },
     "output_type": "display_data"
    },
    {
     "name": "stdout",
     "output_type": "stream",
     "text": [
      "Распределение значений признака \"duration_cont\"\n"
     ]
    },
    {
     "data": {
      "text/html": [
       "<div>\n",
       "<style scoped>\n",
       "    .dataframe tbody tr th:only-of-type {\n",
       "        vertical-align: middle;\n",
       "    }\n",
       "\n",
       "    .dataframe tbody tr th {\n",
       "        vertical-align: top;\n",
       "    }\n",
       "\n",
       "    .dataframe thead th {\n",
       "        text-align: right;\n",
       "    }\n",
       "</style>\n",
       "<table border=\"1\" class=\"dataframe\">\n",
       "  <thead>\n",
       "    <tr style=\"text-align: right;\">\n",
       "      <th></th>\n",
       "      <th>count</th>\n",
       "      <th>mean</th>\n",
       "      <th>std</th>\n",
       "      <th>min</th>\n",
       "      <th>25%</th>\n",
       "      <th>50%</th>\n",
       "      <th>75%</th>\n",
       "      <th>max</th>\n",
       "    </tr>\n",
       "  </thead>\n",
       "  <tbody>\n",
       "    <tr>\n",
       "      <th>Класс 0</th>\n",
       "      <td>5931.0</td>\n",
       "      <td>895.338560</td>\n",
       "      <td>716.588322</td>\n",
       "      <td>31.0</td>\n",
       "      <td>245.0</td>\n",
       "      <td>702.0</td>\n",
       "      <td>1523.0</td>\n",
       "      <td>2314.0</td>\n",
       "    </tr>\n",
       "    <tr>\n",
       "      <th>Класс 1</th>\n",
       "      <td>1101.0</td>\n",
       "      <td>1615.099001</td>\n",
       "      <td>507.691522</td>\n",
       "      <td>123.0</td>\n",
       "      <td>1279.0</td>\n",
       "      <td>1737.0</td>\n",
       "      <td>2071.0</td>\n",
       "      <td>2253.0</td>\n",
       "    </tr>\n",
       "  </tbody>\n",
       "</table>\n",
       "</div>"
      ],
      "text/plain": [
       "          count         mean         std    min     25%     50%     75%  \\\n",
       "Класс 0  5931.0   895.338560  716.588322   31.0   245.0   702.0  1523.0   \n",
       "Класс 1  1101.0  1615.099001  507.691522  123.0  1279.0  1737.0  2071.0   \n",
       "\n",
       "            max  \n",
       "Класс 0  2314.0  \n",
       "Класс 1  2253.0  "
      ]
     },
     "metadata": {},
     "output_type": "display_data"
    },
    {
     "data": {
      "image/png": "[encoded data removed]",
      "text/plain": [
       "<Figure size 1080x720 with 1 Axes>"
      ]
     },
     "metadata": {
      "needs_background": "light"
     },
     "output_type": "display_data"
    }
   ],
   "source": [
    "# Конкретные графики:\n",
    "for i in df.columns:\n",
    "    for j in df:\n",
    "        if i == j:\n",
    "            print(f'Распределение значений признака \"{i}\"')\n",
    "                \n",
    "            t0 = df.loc[df['target'] == 0, i] \n",
    "            t1 = df.loc[df['target'] == 1, i] \n",
    "                \n",
    "            t0 = t0.rename('Класс 0') \n",
    "            t1 = t1.rename('Класс 1') \n",
    "                \n",
    "            display(pd.DataFrame([t0.describe(), t1.describe()])) \n",
    "                \n",
    "            t0.hist(legend=True, alpha=.8, figsize=(15, 10))\n",
    "            t1.hist(legend=True, alpha=.8) \n",
    "            plt.title(f'Распределение значений признака \"{i}\"')\n",
    "            plt.xlabel(f'Значения признака \"{i}\"')\n",
    "            plt.ylabel('Количество значений')\n",
    "            plt.show()"
   ]
  },
  {
   "cell_type": "markdown",
   "id": "a3d162bb",
   "metadata": {},
   "source": [
    "### Промежуточный вывод:\n",
    "Произведён исследовательский анализ данных - построена матрица корреляции Фи, а также графики зависимостей целевого признака от остальных. Получили следующие результаты:\n",
    "  - матрица корреляции показала, что многие параметры слабо связаны с целевым признаком, при необходимости их можно будет удалить;\n",
    "  - уход клиента слабо зависит от типа подписки - во всех случаях количество отмен примерно одинаковое (хотя больше всего клиентов по месячной подписке);\n",
    "  - зависимость от PaperlessBilling слабая;\n",
    "  - меньше всего ушло клиентов, у которых чек отправлялся на электронную почту (наверное, меньше беспокойства);\n",
    "  - клиенты с наименьшими и наибольшими расходами чаще всего отказывались от подписки;\n",
    "  - чем меньше потратил абонент, тем выше шанс его ухода;\n",
    "  - пол не играет никакого значения;\n",
    "  - выход на пенсию также неособо влияет, хотя по общему соотношению в категориях можно сказать, что пенсионеры чаще отказываются от подписки;\n",
    "  - если есть супруг/супруга, шансы на отказ немного выше;\n",
    "  - с наличием детей ситуация аналогична выходу на пенсию;\n",
    "  - тип подключения к интернету явно не влияет;\n",
    "  - блокировка опасных сайтов аналогично;\n",
    "  - те, кто пользуются облачным хранилищем, отказывались от подписки чаще;\n",
    "  - те, кто пользовался антивирусом, отказывались чаще;\n",
    "  - возможность ТП не влияла на целевой признак;\n",
    "  - пользователи со стриминговым сервисом отказывались чаще;\n",
    "  - с фильмами ситуация аналогична (возможно, дело в качестве данных продуктов);\n",
    "  - абоненты с несколькими линиями подключения телефона отказывались значимо чаще;\n",
    "  - общее отношение отказавшихся к действующим абонентам примерно 1/6;\n",
    "  - количество отказников линейно растёт с увеличением продолжительности пользования услугами."
   ]
  },
  {
   "cell_type": "markdown",
   "id": "7a0a48d9",
   "metadata": {},
   "source": [
    "## Подготовка к обучению моделей"
   ]
  },
  {
   "cell_type": "markdown",
   "id": "813b3aed",
   "metadata": {},
   "source": [
    "Данных для обучения оказалось мало, поэтому итоговый датафрейм разобьём только на тренировочную и тестовую выборки."
   ]
  },
  {
   "cell_type": "code",
   "execution_count": 18,
   "id": "1a81035c",
   "metadata": {},
   "outputs": [
    {
     "name": "stdout",
     "output_type": "stream",
     "text": [
      "(5274, 18) (5274,) (1758, 18) (1758,)\n"
     ]
    }
   ],
   "source": [
    "# Готовим тренировочную и тестовую выборки:\n",
    "features = df.drop('target', axis=1)\n",
    "target = df['target']\n",
    "\n",
    "features_train, features_test, target_train, target_test = train_test_split(features, target,\n",
    "                                                                            test_size = TEST_SIZE,\n",
    "                                                                            random_state = RANDOM_STATE)\n",
    "\n",
    "\n",
    "print(features_train.shape, target_train.shape,\n",
    "      features_test.shape, target_test.shape)"
   ]
  },
  {
   "cell_type": "markdown",
   "id": "0f3e8741",
   "metadata": {},
   "source": [
    "## Обучение моделей"
   ]
  },
  {
   "cell_type": "markdown",
   "id": "fc2e2d49",
   "metadata": {},
   "source": [
    "По заданию необходимо сравнить между собой как минимум две модели. Ограничений на время обучения нет, что даёт возмодность использовать модели с бустингом. По предыдущим работам понятно, что при отсутствии явной зависимости целевого признака от остальных, бустинг показывает лучшие результаты. Будем использовать LGBMClassifier и CatBoostClassifier.\n",
    "\n",
    "Поиск гиперпараметров лучшей модели будем определять по GridSearch. Метрика качества - ROC AUC >= 85%."
   ]
  },
  {
   "cell_type": "code",
   "execution_count": 19,
   "id": "52aaa542",
   "metadata": {},
   "outputs": [
    {
     "data": {
      "text/html": [
       "<div>\n",
       "<style scoped>\n",
       "    .dataframe tbody tr th:only-of-type {\n",
       "        vertical-align: middle;\n",
       "    }\n",
       "\n",
       "    .dataframe tbody tr th {\n",
       "        vertical-align: top;\n",
       "    }\n",
       "\n",
       "    .dataframe thead th {\n",
       "        text-align: right;\n",
       "    }\n",
       "</style>\n",
       "<table border=\"1\" class=\"dataframe\">\n",
       "  <thead>\n",
       "    <tr style=\"text-align: right;\">\n",
       "      <th></th>\n",
       "      <th>Type</th>\n",
       "      <th>PaperlessBilling</th>\n",
       "      <th>PaymentMethod</th>\n",
       "      <th>MonthlyCharges</th>\n",
       "      <th>TotalCharges</th>\n",
       "      <th>gender</th>\n",
       "      <th>SeniorCitizen</th>\n",
       "      <th>Partner</th>\n",
       "      <th>Dependents</th>\n",
       "      <th>InternetService</th>\n",
       "      <th>OnlineSecurity</th>\n",
       "      <th>OnlineBackup</th>\n",
       "      <th>DeviceProtection</th>\n",
       "      <th>TechSupport</th>\n",
       "      <th>StreamingTV</th>\n",
       "      <th>StreamingMovies</th>\n",
       "      <th>MultipleLines</th>\n",
       "      <th>duration_cont</th>\n",
       "    </tr>\n",
       "  </thead>\n",
       "  <tbody>\n",
       "    <tr>\n",
       "      <th>0</th>\n",
       "      <td>One year</td>\n",
       "      <td>Yes</td>\n",
       "      <td>Mailed check</td>\n",
       "      <td>65.6</td>\n",
       "      <td>631.73</td>\n",
       "      <td>Female</td>\n",
       "      <td>0</td>\n",
       "      <td>Yes</td>\n",
       "      <td>Yes</td>\n",
       "      <td>DSL</td>\n",
       "      <td>No</td>\n",
       "      <td>Yes</td>\n",
       "      <td>No</td>\n",
       "      <td>Yes</td>\n",
       "      <td>Yes</td>\n",
       "      <td>No</td>\n",
       "      <td>No</td>\n",
       "      <td>276</td>\n",
       "    </tr>\n",
       "    <tr>\n",
       "      <th>1</th>\n",
       "      <td>Month-to-month</td>\n",
       "      <td>No</td>\n",
       "      <td>Mailed check</td>\n",
       "      <td>59.9</td>\n",
       "      <td>539.10</td>\n",
       "      <td>Male</td>\n",
       "      <td>0</td>\n",
       "      <td>No</td>\n",
       "      <td>No</td>\n",
       "      <td>DSL</td>\n",
       "      <td>No</td>\n",
       "      <td>No</td>\n",
       "      <td>No</td>\n",
       "      <td>No</td>\n",
       "      <td>No</td>\n",
       "      <td>Yes</td>\n",
       "      <td>Yes</td>\n",
       "      <td>276</td>\n",
       "    </tr>\n",
       "    <tr>\n",
       "      <th>2</th>\n",
       "      <td>Month-to-month</td>\n",
       "      <td>Yes</td>\n",
       "      <td>Electronic check</td>\n",
       "      <td>73.9</td>\n",
       "      <td>406.45</td>\n",
       "      <td>Male</td>\n",
       "      <td>0</td>\n",
       "      <td>No</td>\n",
       "      <td>No</td>\n",
       "      <td>Fiber optic</td>\n",
       "      <td>No</td>\n",
       "      <td>No</td>\n",
       "      <td>Yes</td>\n",
       "      <td>No</td>\n",
       "      <td>No</td>\n",
       "      <td>No</td>\n",
       "      <td>No</td>\n",
       "      <td>153</td>\n",
       "    </tr>\n",
       "    <tr>\n",
       "      <th>3</th>\n",
       "      <td>Month-to-month</td>\n",
       "      <td>Yes</td>\n",
       "      <td>Electronic check</td>\n",
       "      <td>98.0</td>\n",
       "      <td>1372.00</td>\n",
       "      <td>Male</td>\n",
       "      <td>1</td>\n",
       "      <td>Yes</td>\n",
       "      <td>No</td>\n",
       "      <td>Fiber optic</td>\n",
       "      <td>No</td>\n",
       "      <td>Yes</td>\n",
       "      <td>Yes</td>\n",
       "      <td>No</td>\n",
       "      <td>Yes</td>\n",
       "      <td>Yes</td>\n",
       "      <td>No</td>\n",
       "      <td>427</td>\n",
       "    </tr>\n",
       "    <tr>\n",
       "      <th>4</th>\n",
       "      <td>Month-to-month</td>\n",
       "      <td>Yes</td>\n",
       "      <td>Mailed check</td>\n",
       "      <td>83.9</td>\n",
       "      <td>444.67</td>\n",
       "      <td>Female</td>\n",
       "      <td>1</td>\n",
       "      <td>Yes</td>\n",
       "      <td>No</td>\n",
       "      <td>Fiber optic</td>\n",
       "      <td>No</td>\n",
       "      <td>No</td>\n",
       "      <td>No</td>\n",
       "      <td>Yes</td>\n",
       "      <td>Yes</td>\n",
       "      <td>No</td>\n",
       "      <td>No</td>\n",
       "      <td>153</td>\n",
       "    </tr>\n",
       "  </tbody>\n",
       "</table>\n",
       "</div>"
      ],
      "text/plain": [
       "             Type PaperlessBilling     PaymentMethod  MonthlyCharges  \\\n",
       "0        One year              Yes      Mailed check            65.6   \n",
       "1  Month-to-month               No      Mailed check            59.9   \n",
       "2  Month-to-month              Yes  Electronic check            73.9   \n",
       "3  Month-to-month              Yes  Electronic check            98.0   \n",
       "4  Month-to-month              Yes      Mailed check            83.9   \n",
       "\n",
       "   TotalCharges  gender  SeniorCitizen Partner Dependents InternetService  \\\n",
       "0        631.73  Female              0     Yes        Yes             DSL   \n",
       "1        539.10    Male              0      No         No             DSL   \n",
       "2        406.45    Male              0      No         No     Fiber optic   \n",
       "3       1372.00    Male              1     Yes         No     Fiber optic   \n",
       "4        444.67  Female              1     Yes         No     Fiber optic   \n",
       "\n",
       "  OnlineSecurity OnlineBackup DeviceProtection TechSupport StreamingTV  \\\n",
       "0             No          Yes               No         Yes         Yes   \n",
       "1             No           No               No          No          No   \n",
       "2             No           No              Yes          No          No   \n",
       "3             No          Yes              Yes          No         Yes   \n",
       "4             No           No               No         Yes         Yes   \n",
       "\n",
       "  StreamingMovies MultipleLines  duration_cont  \n",
       "0              No            No            276  \n",
       "1             Yes           Yes            276  \n",
       "2              No            No            153  \n",
       "3             Yes            No            427  \n",
       "4              No            No            153  "
      ]
     },
     "metadata": {},
     "output_type": "display_data"
    }
   ],
   "source": [
    "# Напомним, что из себя представляют данные:\n",
    "display(features.head())"
   ]
  },
  {
   "cell_type": "markdown",
   "id": "a700b2d9",
   "metadata": {},
   "source": [
    "Имеем 3 столбца с количественными признаками: MonthlyCharges, TotalCharges и duration_cont. Они нуждаются в обработке, займёмся этим."
   ]
  },
  {
   "cell_type": "code",
   "execution_count": 20,
   "id": "93ab8f7f",
   "metadata": {},
   "outputs": [],
   "source": [
    "# Скалирование количественных признаков:\n",
    "#num_col = ['MonthlyCharges', 'TotalCharges', 'duration_cont']\n",
    "\n",
    "#scaler = StandardScaler()\n",
    "\n",
    "#features_train[num_col] = scaler.fit_transform(features_train[num_col])\n",
    "#features_test[num_col] = scaler.transform(features_test[num_col])\n",
    "\n",
    "#display(features_train.head())"
   ]
  },
  {
   "cell_type": "markdown",
   "id": "bd0e721d",
   "metadata": {},
   "source": [
    "Остались только категориальные признаки. При подаче сырых данных модели плохо справляются с ними, поэтому закодируем вручную."
   ]
  },
  {
   "cell_type": "code",
   "execution_count": 21,
   "id": "ec3fa87c",
   "metadata": {},
   "outputs": [],
   "source": [
    "# Табличка для красивого вывода:\n",
    "result = pd.DataFrame(columns = ['ROC_AUC', 'Precision'])\n",
    "\n",
    "def res(name, roc_auc, precision):\n",
    "    result.loc[name, ['ROC_AUC']] = roc_auc\n",
    "    result.loc[name, ['Precision']] = precision\n",
    "    return result"
   ]
  },
  {
   "cell_type": "code",
   "execution_count": 22,
   "id": "c62f3997",
   "metadata": {},
   "outputs": [
    {
     "data": {
      "text/html": [
       "<div>\n",
       "<style scoped>\n",
       "    .dataframe tbody tr th:only-of-type {\n",
       "        vertical-align: middle;\n",
       "    }\n",
       "\n",
       "    .dataframe tbody tr th {\n",
       "        vertical-align: top;\n",
       "    }\n",
       "\n",
       "    .dataframe thead th {\n",
       "        text-align: right;\n",
       "    }\n",
       "</style>\n",
       "<table border=\"1\" class=\"dataframe\">\n",
       "  <thead>\n",
       "    <tr style=\"text-align: right;\">\n",
       "      <th></th>\n",
       "      <th>Type</th>\n",
       "      <th>PaperlessBilling</th>\n",
       "      <th>PaymentMethod</th>\n",
       "      <th>MonthlyCharges</th>\n",
       "      <th>TotalCharges</th>\n",
       "      <th>gender</th>\n",
       "      <th>SeniorCitizen</th>\n",
       "      <th>Partner</th>\n",
       "      <th>Dependents</th>\n",
       "      <th>InternetService</th>\n",
       "      <th>OnlineSecurity</th>\n",
       "      <th>OnlineBackup</th>\n",
       "      <th>DeviceProtection</th>\n",
       "      <th>TechSupport</th>\n",
       "      <th>StreamingTV</th>\n",
       "      <th>StreamingMovies</th>\n",
       "      <th>MultipleLines</th>\n",
       "      <th>duration_cont</th>\n",
       "    </tr>\n",
       "  </thead>\n",
       "  <tbody>\n",
       "    <tr>\n",
       "      <th>6816</th>\n",
       "      <td>2.0</td>\n",
       "      <td>0.0</td>\n",
       "      <td>1.0</td>\n",
       "      <td>109.70</td>\n",
       "      <td>6690.60</td>\n",
       "      <td>0.0</td>\n",
       "      <td>0</td>\n",
       "      <td>1.0</td>\n",
       "      <td>1.0</td>\n",
       "      <td>1.0</td>\n",
       "      <td>2.0</td>\n",
       "      <td>2.0</td>\n",
       "      <td>2.0</td>\n",
       "      <td>0.0</td>\n",
       "      <td>2.0</td>\n",
       "      <td>2.0</td>\n",
       "      <td>2.0</td>\n",
       "      <td>2191</td>\n",
       "    </tr>\n",
       "    <tr>\n",
       "      <th>2382</th>\n",
       "      <td>2.0</td>\n",
       "      <td>0.0</td>\n",
       "      <td>3.0</td>\n",
       "      <td>79.20</td>\n",
       "      <td>2455.20</td>\n",
       "      <td>0.0</td>\n",
       "      <td>0</td>\n",
       "      <td>0.0</td>\n",
       "      <td>0.0</td>\n",
       "      <td>0.0</td>\n",
       "      <td>0.0</td>\n",
       "      <td>2.0</td>\n",
       "      <td>2.0</td>\n",
       "      <td>2.0</td>\n",
       "      <td>2.0</td>\n",
       "      <td>2.0</td>\n",
       "      <td>0.0</td>\n",
       "      <td>945</td>\n",
       "    </tr>\n",
       "    <tr>\n",
       "      <th>6603</th>\n",
       "      <td>1.0</td>\n",
       "      <td>1.0</td>\n",
       "      <td>1.0</td>\n",
       "      <td>90.65</td>\n",
       "      <td>3897.95</td>\n",
       "      <td>1.0</td>\n",
       "      <td>0</td>\n",
       "      <td>0.0</td>\n",
       "      <td>0.0</td>\n",
       "      <td>1.0</td>\n",
       "      <td>2.0</td>\n",
       "      <td>2.0</td>\n",
       "      <td>2.0</td>\n",
       "      <td>2.0</td>\n",
       "      <td>0.0</td>\n",
       "      <td>0.0</td>\n",
       "      <td>0.0</td>\n",
       "      <td>1310</td>\n",
       "    </tr>\n",
       "    <tr>\n",
       "      <th>5822</th>\n",
       "      <td>2.0</td>\n",
       "      <td>1.0</td>\n",
       "      <td>0.0</td>\n",
       "      <td>93.25</td>\n",
       "      <td>6714.00</td>\n",
       "      <td>0.0</td>\n",
       "      <td>0</td>\n",
       "      <td>1.0</td>\n",
       "      <td>1.0</td>\n",
       "      <td>0.0</td>\n",
       "      <td>2.0</td>\n",
       "      <td>2.0</td>\n",
       "      <td>2.0</td>\n",
       "      <td>2.0</td>\n",
       "      <td>2.0</td>\n",
       "      <td>2.0</td>\n",
       "      <td>2.0</td>\n",
       "      <td>2191</td>\n",
       "    </tr>\n",
       "    <tr>\n",
       "      <th>1971</th>\n",
       "      <td>0.0</td>\n",
       "      <td>1.0</td>\n",
       "      <td>3.0</td>\n",
       "      <td>59.55</td>\n",
       "      <td>59.55</td>\n",
       "      <td>1.0</td>\n",
       "      <td>0</td>\n",
       "      <td>0.0</td>\n",
       "      <td>1.0</td>\n",
       "      <td>0.0</td>\n",
       "      <td>0.0</td>\n",
       "      <td>0.0</td>\n",
       "      <td>0.0</td>\n",
       "      <td>2.0</td>\n",
       "      <td>0.0</td>\n",
       "      <td>2.0</td>\n",
       "      <td>0.0</td>\n",
       "      <td>31</td>\n",
       "    </tr>\n",
       "  </tbody>\n",
       "</table>\n",
       "</div>"
      ],
      "text/plain": [
       "      Type  PaperlessBilling  PaymentMethod  MonthlyCharges  TotalCharges  \\\n",
       "6816   2.0               0.0            1.0          109.70       6690.60   \n",
       "2382   2.0               0.0            3.0           79.20       2455.20   \n",
       "6603   1.0               1.0            1.0           90.65       3897.95   \n",
       "5822   2.0               1.0            0.0           93.25       6714.00   \n",
       "1971   0.0               1.0            3.0           59.55         59.55   \n",
       "\n",
       "      gender  SeniorCitizen  Partner  Dependents  InternetService  \\\n",
       "6816     0.0              0      1.0         1.0              1.0   \n",
       "2382     0.0              0      0.0         0.0              0.0   \n",
       "6603     1.0              0      0.0         0.0              1.0   \n",
       "5822     0.0              0      1.0         1.0              0.0   \n",
       "1971     1.0              0      0.0         1.0              0.0   \n",
       "\n",
       "      OnlineSecurity  OnlineBackup  DeviceProtection  TechSupport  \\\n",
       "6816             2.0           2.0               2.0          0.0   \n",
       "2382             0.0           2.0               2.0          2.0   \n",
       "6603             2.0           2.0               2.0          2.0   \n",
       "5822             2.0           2.0               2.0          2.0   \n",
       "1971             0.0           0.0               0.0          2.0   \n",
       "\n",
       "      StreamingTV  StreamingMovies  MultipleLines  duration_cont  \n",
       "6816          2.0              2.0            2.0           2191  \n",
       "2382          2.0              2.0            0.0            945  \n",
       "6603          0.0              0.0            0.0           1310  \n",
       "5822          2.0              2.0            2.0           2191  \n",
       "1971          0.0              2.0            0.0             31  "
      ]
     },
     "metadata": {},
     "output_type": "display_data"
    }
   ],
   "source": [
    "# Список столбцов с категориальными данными:\n",
    "cat_col = ['Type', 'PaperlessBilling', 'PaymentMethod', 'gender', 'Partner', 'Dependents', 'InternetService',\n",
    "        'OnlineSecurity', 'OnlineBackup', 'DeviceProtection', 'TechSupport', 'StreamingTV', 'StreamingMovies', 'MultipleLines']\n",
    "\n",
    "# Обработка категориальных признаков для GBM:\n",
    "features_train_gbm = features_train.copy()\n",
    "features_test_gbm = features_test.copy()\n",
    "\n",
    "encoder = OrdinalEncoder()\n",
    "features_train_gbm[cat_col] = encoder.fit_transform(features_train_gbm[cat_col])\n",
    "features_test_gbm[cat_col] = encoder.transform(features_test_gbm[cat_col])\n",
    "\n",
    "display(features_train_gbm.head())"
   ]
  },
  {
   "cell_type": "code",
   "execution_count": 23,
   "id": "818c7e69",
   "metadata": {
    "scrolled": true
   },
   "outputs": [
    {
     "name": "stdout",
     "output_type": "stream",
     "text": [
      "Лучшие параметры модели: {'learning_rate': 0.1, 'max_depth': 9}\n"
     ]
    }
   ],
   "source": [
    "# Обучение GBM:\n",
    "gbm = LGBMClassifier(random_state = RANDOM_STATE)\n",
    "gbm_params = {'max_depth': np.arange(4, 11), 'learning_rate':[0.0001, 0.001, 0.01, 0.1, 1]}\n",
    "\n",
    "grid_gbm = GridSearchCV(gbm, \n",
    "                    gbm_params, \n",
    "                    cv = 3,\n",
    "                    scoring={'roc_auc': 'roc_auc', 'precision': make_scorer(precision_score, average='binary', zero_division=1)},\n",
    "                    refit = 'roc_auc').fit(features_train_gbm, target_train)\n",
    "\n",
    "print('Лучшие параметры модели:', grid_gbm.best_params_)"
   ]
  },
  {
   "cell_type": "code",
   "execution_count": 24,
   "id": "63c924f7",
   "metadata": {},
   "outputs": [
    {
     "data": {
      "text/html": [
       "<div>\n",
       "<style scoped>\n",
       "    .dataframe tbody tr th:only-of-type {\n",
       "        vertical-align: middle;\n",
       "    }\n",
       "\n",
       "    .dataframe tbody tr th {\n",
       "        vertical-align: top;\n",
       "    }\n",
       "\n",
       "    .dataframe thead th {\n",
       "        text-align: right;\n",
       "    }\n",
       "</style>\n",
       "<table border=\"1\" class=\"dataframe\">\n",
       "  <thead>\n",
       "    <tr style=\"text-align: right;\">\n",
       "      <th></th>\n",
       "      <th>ROC_AUC</th>\n",
       "      <th>Precision</th>\n",
       "    </tr>\n",
       "  </thead>\n",
       "  <tbody>\n",
       "    <tr>\n",
       "      <th>LGBMClassifier</th>\n",
       "      <td>0.9587</td>\n",
       "      <td>0.9847</td>\n",
       "    </tr>\n",
       "  </tbody>\n",
       "</table>\n",
       "</div>"
      ],
      "text/plain": [
       "               ROC_AUC Precision\n",
       "LGBMClassifier  0.9587    0.9847"
      ]
     },
     "execution_count": 24,
     "metadata": {},
     "output_type": "execute_result"
    }
   ],
   "source": [
    "# Занесём результаты в табличку:\n",
    "results = pd.DataFrame.from_dict(grid_gbm.cv_results_)\n",
    "best_idx = results.sort_values(by='rank_test_roc_auc').head(1).index[0]\n",
    "roc = results.loc[best_idx, 'mean_test_roc_auc']\n",
    "pr = results.loc[best_idx, 'mean_test_precision']\n",
    "\n",
    "res('LGBMClassifier', round(roc, 4), round(pr, 4))"
   ]
  },
  {
   "cell_type": "code",
   "execution_count": 25,
   "id": "a58c1759",
   "metadata": {},
   "outputs": [],
   "source": [
    "pd.DataFrame.iteritems = pd.DataFrame.items"
   ]
  },
  {
   "cell_type": "code",
   "execution_count": 26,
   "id": "fef794ba",
   "metadata": {},
   "outputs": [
    {
     "name": "stdout",
     "output_type": "stream",
     "text": [
      "Лучшие параметры модели: {'iterations': 500, 'learning_rate': 0.1, 'max_depth': 4}\n"
     ]
    }
   ],
   "source": [
    "# Обучение CatBoost:\n",
    "cbr = CatBoostClassifier(random_state = RANDOM_STATE, logging_level='Silent', loss_function='Logloss')\n",
    "cbr_params = {'max_depth': np.arange(4, 11), 'learning_rate':[0.0001, 0.001, 0.01, 0.1, 1], 'iterations': [500,1000,1500,2000]}\n",
    "\n",
    "grid_cbr = GridSearchCV(cbr, cbr_params, cv=3, scoring=['roc_auc', 'precision'], refit = 'roc_auc')\n",
    "\n",
    "grid_cbr.fit(features_train_gbm, target_train)\n",
    "\n",
    "print('Лучшие параметры модели:', grid_cbr.best_params_)"
   ]
  },
  {
   "cell_type": "code",
   "execution_count": 27,
   "id": "79920bae",
   "metadata": {},
   "outputs": [
    {
     "data": {
      "text/html": [
       "<div>\n",
       "<style scoped>\n",
       "    .dataframe tbody tr th:only-of-type {\n",
       "        vertical-align: middle;\n",
       "    }\n",
       "\n",
       "    .dataframe tbody tr th {\n",
       "        vertical-align: top;\n",
       "    }\n",
       "\n",
       "    .dataframe thead th {\n",
       "        text-align: right;\n",
       "    }\n",
       "</style>\n",
       "<table border=\"1\" class=\"dataframe\">\n",
       "  <thead>\n",
       "    <tr style=\"text-align: right;\">\n",
       "      <th></th>\n",
       "      <th>ROC_AUC</th>\n",
       "      <th>Precision</th>\n",
       "    </tr>\n",
       "  </thead>\n",
       "  <tbody>\n",
       "    <tr>\n",
       "      <th>LGBMClassifier</th>\n",
       "      <td>0.9587</td>\n",
       "      <td>0.9847</td>\n",
       "    </tr>\n",
       "    <tr>\n",
       "      <th>CatBoostClassifier</th>\n",
       "      <td>0.9634</td>\n",
       "      <td>0.9939</td>\n",
       "    </tr>\n",
       "  </tbody>\n",
       "</table>\n",
       "</div>"
      ],
      "text/plain": [
       "                   ROC_AUC Precision\n",
       "LGBMClassifier      0.9587    0.9847\n",
       "CatBoostClassifier  0.9634    0.9939"
      ]
     },
     "execution_count": 27,
     "metadata": {},
     "output_type": "execute_result"
    }
   ],
   "source": [
    "# Занесём результаты в табличку:\n",
    "results = pd.DataFrame.from_dict(grid_cbr.cv_results_)\n",
    "best_idx = results.sort_values(by='rank_test_roc_auc').head(1).index[0]\n",
    "roc = results.loc[best_idx, 'mean_test_roc_auc']\n",
    "pr = results.loc[best_idx, 'mean_test_precision']\n",
    "\n",
    "res('CatBoostClassifier', round(roc, 4), round(pr, 4))"
   ]
  },
  {
   "cell_type": "markdown",
   "id": "c03b04cb",
   "metadata": {},
   "source": [
    "### Промежуточный вывод:\n",
    "В ходе работы были обучены 2 модели машинного обучения: LGBMClassifier и CatBoostClassifier. Обе модели с бустингом, так как скорость нам не важна, а данных мало, поэтому точность приветствуется.\n",
    "\n",
    "Вторая показала лучший результат при следующих параметрах: . Используем CatBoostClassifier для тестов."
   ]
  },
  {
   "cell_type": "markdown",
   "id": "1cc4fee6",
   "metadata": {},
   "source": [
    "## Тестирование лучшей модели"
   ]
  },
  {
   "cell_type": "markdown",
   "id": "760ae796",
   "metadata": {},
   "source": [
    "Теперь обучим модель CatBoostClassifier на лучших параметрах и предскажем результаты по тестовой выборке."
   ]
  },
  {
   "cell_type": "code",
   "execution_count": 34,
   "id": "00b924ec",
   "metadata": {},
   "outputs": [],
   "source": [
    "# Обучение лучшей модели:\n",
    "model = CatBoostClassifier(logging_level='Silent',\n",
    "                           loss_function='Logloss',\n",
    "                           iterations = 500, \n",
    "                           learning_rate = 0.1, \n",
    "                           max_depth = 4,\n",
    "                           random_state = RANDOM_STATE).fit(features_train_gbm, target_train)\n",
    "predictions = model.predict(features_test_gbm)\n",
    "\n",
    "y_pred_proba = model.predict_proba(features_test_gbm)[:, 1]"
   ]
  },
  {
   "cell_type": "code",
   "execution_count": 35,
   "id": "2165de52",
   "metadata": {},
   "outputs": [
    {
     "name": "stdout",
     "output_type": "stream",
     "text": [
      "AUC-ROC на тестовом наборе данных: 0.97\n"
     ]
    }
   ],
   "source": [
    "# Вычисляем ROC_AUC на тесте:\n",
    "roc_auc = roc_auc_score(target_test, y_pred_proba)\n",
    "print('AUC-ROC на тестовом наборе данных:', round(roc_auc, 2))"
   ]
  },
  {
   "cell_type": "markdown",
   "id": "64d45776",
   "metadata": {},
   "source": [
    "Результат удовлетворяет требованиям (больше или равно 85%).\n",
    "\n",
    "Изучим влияние всех параметров на предсказания модели, а также построим матрицу ошибок."
   ]
  },
  {
   "cell_type": "code",
   "execution_count": 36,
   "id": "64af1f98",
   "metadata": {},
   "outputs": [
    {
     "data": {
      "image/png": "[encoded data removed]",
      "text/plain": [
       "<Figure size 720x720 with 2 Axes>"
      ]
     },
     "metadata": {
      "needs_background": "light"
     },
     "output_type": "display_data"
    }
   ],
   "source": [
    "# Матрица ошибок:\n",
    "cm_cbc = confusion_matrix(target_test, predictions)\n",
    "cm_cbc_data = pd.DataFrame(cm_cbc, index=['0', '1'], columns=['0', '1'])\n",
    "\n",
    "plt.figure(figsize=(10, 10))\n",
    "sns.heatmap(cm_cbc, xticklabels=cm_cbc_data.columns, yticklabels=cm_cbc_data.index, annot=True, fmt='g', cmap=\"Greens\", annot_kws={\"size\": 16})\n",
    "plt.title(\"Матрица ошибок\", size=18)\n",
    "plt.xlabel('predictions', size=18)\n",
    "plt.ylabel('target', size=18);"
   ]
  },
  {
   "cell_type": "code",
   "execution_count": 37,
   "id": "98a84458",
   "metadata": {},
   "outputs": [
    {
     "data": {
      "text/html": [
       "<div>\n",
       "<style scoped>\n",
       "    .dataframe tbody tr th:only-of-type {\n",
       "        vertical-align: middle;\n",
       "    }\n",
       "\n",
       "    .dataframe tbody tr th {\n",
       "        vertical-align: top;\n",
       "    }\n",
       "\n",
       "    .dataframe thead th {\n",
       "        text-align: right;\n",
       "    }\n",
       "</style>\n",
       "<table border=\"1\" class=\"dataframe\">\n",
       "  <thead>\n",
       "    <tr style=\"text-align: right;\">\n",
       "      <th></th>\n",
       "      <th>Важность признака</th>\n",
       "    </tr>\n",
       "  </thead>\n",
       "  <tbody>\n",
       "    <tr>\n",
       "      <th>TotalCharges</th>\n",
       "      <td>36.072257</td>\n",
       "    </tr>\n",
       "    <tr>\n",
       "      <th>duration_cont</th>\n",
       "      <td>35.959003</td>\n",
       "    </tr>\n",
       "    <tr>\n",
       "      <th>MonthlyCharges</th>\n",
       "      <td>20.063620</td>\n",
       "    </tr>\n",
       "    <tr>\n",
       "      <th>InternetService</th>\n",
       "      <td>1.294650</td>\n",
       "    </tr>\n",
       "    <tr>\n",
       "      <th>PaymentMethod</th>\n",
       "      <td>0.841206</td>\n",
       "    </tr>\n",
       "    <tr>\n",
       "      <th>StreamingMovies</th>\n",
       "      <td>0.835474</td>\n",
       "    </tr>\n",
       "    <tr>\n",
       "      <th>StreamingTV</th>\n",
       "      <td>0.616780</td>\n",
       "    </tr>\n",
       "    <tr>\n",
       "      <th>Type</th>\n",
       "      <td>0.595774</td>\n",
       "    </tr>\n",
       "    <tr>\n",
       "      <th>MultipleLines</th>\n",
       "      <td>0.584734</td>\n",
       "    </tr>\n",
       "    <tr>\n",
       "      <th>TechSupport</th>\n",
       "      <td>0.557385</td>\n",
       "    </tr>\n",
       "    <tr>\n",
       "      <th>OnlineBackup</th>\n",
       "      <td>0.517306</td>\n",
       "    </tr>\n",
       "    <tr>\n",
       "      <th>DeviceProtection</th>\n",
       "      <td>0.471375</td>\n",
       "    </tr>\n",
       "    <tr>\n",
       "      <th>Dependents</th>\n",
       "      <td>0.389176</td>\n",
       "    </tr>\n",
       "    <tr>\n",
       "      <th>OnlineSecurity</th>\n",
       "      <td>0.362523</td>\n",
       "    </tr>\n",
       "    <tr>\n",
       "      <th>Partner</th>\n",
       "      <td>0.273434</td>\n",
       "    </tr>\n",
       "    <tr>\n",
       "      <th>PaperlessBilling</th>\n",
       "      <td>0.247424</td>\n",
       "    </tr>\n",
       "    <tr>\n",
       "      <th>SeniorCitizen</th>\n",
       "      <td>0.182471</td>\n",
       "    </tr>\n",
       "    <tr>\n",
       "      <th>gender</th>\n",
       "      <td>0.135407</td>\n",
       "    </tr>\n",
       "  </tbody>\n",
       "</table>\n",
       "</div>"
      ],
      "text/plain": [
       "                  Важность признака\n",
       "TotalCharges              36.072257\n",
       "duration_cont             35.959003\n",
       "MonthlyCharges            20.063620\n",
       "InternetService            1.294650\n",
       "PaymentMethod              0.841206\n",
       "StreamingMovies            0.835474\n",
       "StreamingTV                0.616780\n",
       "Type                       0.595774\n",
       "MultipleLines              0.584734\n",
       "TechSupport                0.557385\n",
       "OnlineBackup               0.517306\n",
       "DeviceProtection           0.471375\n",
       "Dependents                 0.389176\n",
       "OnlineSecurity             0.362523\n",
       "Partner                    0.273434\n",
       "PaperlessBilling           0.247424\n",
       "SeniorCitizen              0.182471\n",
       "gender                     0.135407"
      ]
     },
     "execution_count": 37,
     "metadata": {},
     "output_type": "execute_result"
    }
   ],
   "source": [
    "# Важность признаков:\n",
    "pd.DataFrame(\n",
    "    model.feature_importances_, \n",
    "    index=features_train.columns.values.tolist(),\n",
    "    columns=['Важность признака']\n",
    ").sort_values(by='Важность признака', ascending=False)"
   ]
  },
  {
   "cell_type": "markdown",
   "id": "aad74b3c",
   "metadata": {},
   "source": [
    "### Промежуточный вывод:\n",
    "Результат предсказаний на тестовой выборке оказался удовлетворительным (ROC_AUC = 97%).\n",
    "\n",
    "Построили матрицу ошибок и исследовали важность признаков. Результаты следующие:\n",
    "  - модель плохо справляется с предсказанием расторжения договора, логичнее будет использовать её для прогнозтирования тех, кто точно останется;\n",
    "  - \"пальму первенства\" среди признаков делят продолжительность оказания услуг и траты на них."
   ]
  },
  {
   "cell_type": "markdown",
   "id": "e208274c",
   "metadata": {},
   "source": [
    "## Итоговый вывод:\n",
    "Для работы было получено 4 файла с информацией о клиентах телекома.\n",
    "\n",
    "Загрузили исходные файлы с данными; пропусков в них не обнаружено, однако сразу столкнулись с проблемой нехватки информации по некоторым пользователям. Придётся серьёзно урезать количество данных.\n",
    "\n",
    "Произведена предобработка данных, в ходе которой были совершены следующие действия:\n",
    "  - объединены исходные датафреймы;\n",
    "  - произведена проверка на дубликаты;\n",
    "  - обработаны типы данных;\n",
    "  - заполнены пропуски;\n",
    "  - добавлены новые признаки;\n",
    "  - удалены лишние столбцы.\n",
    "\n",
    "Произведён исследовательский анализ данных - построена матрица корреляции Фи, а также графики зависимостей целевого признака от остальных. Получили следующие результаты:\n",
    "  - матрица корреляции показала, что многие параметры слабо связаны с целевым признаком, при необходимости их можно будет удалить;\n",
    "  - уход клиента слабо зависит от типа подписки - во всех случаях количество отмен примерно одинаковое (хотя больше всего клиентов по месячной подписке);\n",
    "  - зависимость от PaperlessBilling слабая;\n",
    "  - меньше всего ушло клиентов, у которых чек отправлялся на электронную почту (наверное, меньше беспокойства);\n",
    "  - клиенты с наименьшими и наибольшими расходами чаще всего отказывались от подписки;\n",
    "  - чем меньше потратил абонент, тем выше шанс его ухода;\n",
    "  - пол не играет никакого значения;\n",
    "  - выход на пенсию также неособо влияет, хотя по общему соотношению в категориях можно сказать, что пенсионеры чаще отказываются от подписки;\n",
    "  - если есть супруг/супруга, шансы на отказ немного выше;\n",
    "  - с наличием детей ситуация аналогична выходу на пенсию;\n",
    "  - тип подключения к интернету явно не влияет;\n",
    "  - блокировка опасных сайтов аналогично;\n",
    "  - те, кто пользуются облачным хранилищем, отказывались от подписки чаще;\n",
    "  - те, кто пользовался антивирусом, отказывались чаще;\n",
    "  - возможность ТП не влияла на целевой признак;\n",
    "  - пользователи со стриминговым сервисом отказывались чаще;\n",
    "  - с фильмами ситуация аналогична (возможно, дело в качестве данных продуктов);\n",
    "  - абоненты с несколькими линиями подключения телефона отказывались значимо чаще;\n",
    "  - общее отношение отказавшихся к действующим абонентам примерно 1/6;\n",
    "  - количество отказников линейно растёт с увеличением продолжительности пользования услугами.\n",
    "  \n",
    "В ходе работы были обучены 2 модели машинного обучения: LGBMClassifier и CatBoostClassifier. Обе модели с бустингом, так как скорость нам не важна, а данных мало, поэтому точность приветствуется.\n",
    "\n",
    "Вторая показала лучший результат при следующих параметрах: . Используем CatBoostClassifier для тестов.\n",
    "\n",
    "Результат предсказаний на тестовой выборке оказался удовлетворительным (ROC_AUC = 97%).\n",
    "\n",
    "Построили матрицу ошибок и исследовали важность признаков. Результаты следующие:\n",
    "  - модель плохо справляется с предсказанием расторжения договора, логичнее будет использовать её для прогнозтирования тех, кто точно останется;\n",
    "  - \"пальму первенства\" среди признаков делят продолжительность оказания услуг и траты на них.\n",
    "  \n",
    "Работа выполнена в полном объёме, необходимый результат достигнут. Однако бизнессу можно посоветовать придумать новые признаки для категоризации пользователей, так как нынешняя модель в значительной степени ошибается с предсказанием ухода."
   ]
  }
 ],
 "metadata": {
  "ExecuteTimeLog": [
   {
    "duration": 1026,
    "start_time": "2024-06-15T13:35:47.285Z"
   },
   {
    "duration": 10032,
    "start_time": "2024-06-15T13:37:30.771Z"
   },
   {
    "duration": 34,
    "start_time": "2024-06-15T13:37:48.796Z"
   },
   {
    "duration": 4305,
    "start_time": "2024-06-15T13:40:44.280Z"
   },
   {
    "duration": 20,
    "start_time": "2024-06-15T13:40:49.876Z"
   },
   {
    "duration": 27279,
    "start_time": "2024-06-15T13:41:10.837Z"
   },
   {
    "duration": 19,
    "start_time": "2024-06-15T13:41:43.183Z"
   },
   {
    "duration": 10393,
    "start_time": "2024-06-15T13:42:01.307Z"
   },
   {
    "duration": 2610,
    "start_time": "2024-06-15T13:42:12.423Z"
   },
   {
    "duration": 18,
    "start_time": "2024-06-15T13:42:20.321Z"
   },
   {
    "duration": 18693,
    "start_time": "2024-06-15T13:42:26.125Z"
   },
   {
    "duration": 10482,
    "start_time": "2024-06-15T13:42:44.820Z"
   },
   {
    "duration": 2648,
    "start_time": "2024-06-15T13:42:55.304Z"
   },
   {
    "duration": 1598,
    "start_time": "2024-06-15T13:42:57.955Z"
   },
   {
    "duration": 386,
    "start_time": "2024-06-15T13:52:08.883Z"
   },
   {
    "duration": 120,
    "start_time": "2024-06-15T13:52:30.008Z"
   },
   {
    "duration": 43,
    "start_time": "2024-06-15T16:30:07.123Z"
   },
   {
    "duration": 1095,
    "start_time": "2024-06-15T16:30:13.095Z"
   },
   {
    "duration": 30846,
    "start_time": "2024-06-15T16:30:23.846Z"
   },
   {
    "duration": 12201,
    "start_time": "2024-06-15T16:30:54.694Z"
   },
   {
    "duration": 4290,
    "start_time": "2024-06-15T16:31:06.896Z"
   },
   {
    "duration": 1725,
    "start_time": "2024-06-15T16:31:11.188Z"
   },
   {
    "duration": 366,
    "start_time": "2024-06-15T16:31:12.915Z"
   },
   {
    "duration": 960,
    "start_time": "2024-06-15T16:31:13.283Z"
   },
   {
    "duration": 9,
    "start_time": "2024-06-15T16:31:27.774Z"
   },
   {
    "duration": 36,
    "start_time": "2024-06-15T16:31:35.771Z"
   },
   {
    "duration": 9,
    "start_time": "2024-06-15T16:31:46.106Z"
   },
   {
    "duration": 11,
    "start_time": "2024-06-15T16:32:05.983Z"
   },
   {
    "duration": 6,
    "start_time": "2024-06-15T16:32:47.471Z"
   },
   {
    "duration": 8,
    "start_time": "2024-06-15T16:34:17.294Z"
   },
   {
    "duration": 7,
    "start_time": "2024-06-15T16:34:24.897Z"
   },
   {
    "duration": 7,
    "start_time": "2024-06-15T16:34:30.669Z"
   },
   {
    "duration": 8,
    "start_time": "2024-06-15T16:35:17.593Z"
   },
   {
    "duration": 9,
    "start_time": "2024-06-15T16:35:48.996Z"
   },
   {
    "duration": 16,
    "start_time": "2024-06-15T16:37:02.321Z"
   },
   {
    "duration": 4,
    "start_time": "2024-06-15T16:38:12.224Z"
   },
   {
    "duration": 14,
    "start_time": "2024-06-15T19:35:10.924Z"
   },
   {
    "duration": 9,
    "start_time": "2024-06-15T19:37:05.522Z"
   },
   {
    "duration": 6,
    "start_time": "2024-06-15T19:39:00.273Z"
   },
   {
    "duration": 2,
    "start_time": "2024-06-15T20:04:31.281Z"
   },
   {
    "duration": 2,
    "start_time": "2024-06-15T20:04:40.768Z"
   },
   {
    "duration": 3,
    "start_time": "2024-06-15T20:05:00.556Z"
   },
   {
    "duration": 8,
    "start_time": "2024-06-15T20:15:58.946Z"
   },
   {
    "duration": 45,
    "start_time": "2024-06-15T20:16:14.694Z"
   },
   {
    "duration": 10,
    "start_time": "2024-06-15T20:16:33.991Z"
   },
   {
    "duration": 15,
    "start_time": "2024-06-15T22:12:55.886Z"
   },
   {
    "duration": 15,
    "start_time": "2024-06-15T22:13:04.235Z"
   },
   {
    "duration": 19,
    "start_time": "2024-06-15T22:13:07.391Z"
   },
   {
    "duration": 11,
    "start_time": "2024-06-15T22:18:38.396Z"
   },
   {
    "duration": 57,
    "start_time": "2024-06-15T22:18:52.245Z"
   },
   {
    "duration": 49,
    "start_time": "2024-06-15T22:19:36.805Z"
   },
   {
    "duration": 49,
    "start_time": "2024-06-15T22:20:09.188Z"
   },
   {
    "duration": 52,
    "start_time": "2024-06-15T22:20:13.215Z"
   },
   {
    "duration": 1212,
    "start_time": "2024-06-15T22:24:48.982Z"
   },
   {
    "duration": 78,
    "start_time": "2024-06-15T22:26:58.637Z"
   },
   {
    "duration": 700,
    "start_time": "2024-06-15T22:27:04.548Z"
   },
   {
    "duration": 716,
    "start_time": "2024-06-15T22:29:20.904Z"
   },
   {
    "duration": 843,
    "start_time": "2024-06-15T22:33:11.672Z"
   },
   {
    "duration": 18324,
    "start_time": "2024-06-15T22:34:24.548Z"
   },
   {
    "duration": 10496,
    "start_time": "2024-06-15T22:34:42.874Z"
   },
   {
    "duration": 2589,
    "start_time": "2024-06-15T22:34:53.372Z"
   },
   {
    "duration": 1390,
    "start_time": "2024-06-15T22:34:55.963Z"
   },
   {
    "duration": 3,
    "start_time": "2024-06-15T22:34:57.354Z"
   },
   {
    "duration": 185,
    "start_time": "2024-06-15T22:34:57.358Z"
   },
   {
    "duration": 4,
    "start_time": "2024-06-15T22:34:57.544Z"
   },
   {
    "duration": 45,
    "start_time": "2024-06-15T22:34:57.549Z"
   },
   {
    "duration": 34,
    "start_time": "2024-06-15T22:34:57.595Z"
   },
   {
    "duration": 17,
    "start_time": "2024-06-15T22:34:57.631Z"
   },
   {
    "duration": 52,
    "start_time": "2024-06-15T22:34:57.649Z"
   },
   {
    "duration": 88,
    "start_time": "2024-06-15T22:34:57.703Z"
   },
   {
    "duration": 138,
    "start_time": "2024-06-15T22:34:57.793Z"
   },
   {
    "duration": 211,
    "start_time": "2024-06-15T22:35:06.480Z"
   },
   {
    "duration": 25,
    "start_time": "2024-06-15T22:35:28.456Z"
   },
   {
    "duration": 23,
    "start_time": "2024-06-15T22:38:16.125Z"
   },
   {
    "duration": 6,
    "start_time": "2024-06-15T22:42:01.903Z"
   },
   {
    "duration": 335,
    "start_time": "2024-06-15T22:45:15.346Z"
   },
   {
    "duration": 8,
    "start_time": "2024-06-15T22:45:38.913Z"
   },
   {
    "duration": 14,
    "start_time": "2024-06-15T22:45:42.776Z"
   },
   {
    "duration": 19,
    "start_time": "2024-06-15T22:46:58.233Z"
   },
   {
    "duration": 13,
    "start_time": "2024-06-15T22:48:37.303Z"
   },
   {
    "duration": 3,
    "start_time": "2024-06-15T22:48:56.699Z"
   },
   {
    "duration": 18512,
    "start_time": "2024-06-15T22:49:04.865Z"
   },
   {
    "duration": 10592,
    "start_time": "2024-06-15T22:49:23.379Z"
   },
   {
    "duration": 2632,
    "start_time": "2024-06-15T22:49:33.974Z"
   },
   {
    "duration": 1477,
    "start_time": "2024-06-15T22:49:36.609Z"
   },
   {
    "duration": 2,
    "start_time": "2024-06-15T22:49:38.088Z"
   },
   {
    "duration": 201,
    "start_time": "2024-06-15T22:49:38.091Z"
   },
   {
    "duration": 4,
    "start_time": "2024-06-15T22:49:38.293Z"
   },
   {
    "duration": 56,
    "start_time": "2024-06-15T22:49:38.298Z"
   },
   {
    "duration": 11,
    "start_time": "2024-06-15T22:49:38.355Z"
   },
   {
    "duration": 56,
    "start_time": "2024-06-15T22:49:38.369Z"
   },
   {
    "duration": 56,
    "start_time": "2024-06-15T22:49:38.426Z"
   },
   {
    "duration": 54,
    "start_time": "2024-06-15T22:49:38.483Z"
   },
   {
    "duration": 24,
    "start_time": "2024-06-15T22:49:38.538Z"
   },
   {
    "duration": 145,
    "start_time": "2024-06-15T22:49:38.564Z"
   },
   {
    "duration": 0,
    "start_time": "2024-06-15T22:49:38.711Z"
   },
   {
    "duration": 0,
    "start_time": "2024-06-15T22:49:38.712Z"
   },
   {
    "duration": 296,
    "start_time": "2024-06-15T22:50:06.099Z"
   },
   {
    "duration": 21,
    "start_time": "2024-06-15T22:50:07.639Z"
   },
   {
    "duration": 12,
    "start_time": "2024-06-15T22:52:51.740Z"
   },
   {
    "duration": 703,
    "start_time": "2024-06-15T23:25:39.100Z"
   },
   {
    "duration": 686,
    "start_time": "2024-06-15T23:27:20.939Z"
   },
   {
    "duration": 8,
    "start_time": "2024-06-15T23:28:37.832Z"
   },
   {
    "duration": 3292,
    "start_time": "2024-06-15T23:28:47.887Z"
   },
   {
    "duration": 3004,
    "start_time": "2024-06-15T23:44:26.775Z"
   },
   {
    "duration": 3030,
    "start_time": "2024-06-15T23:46:18.791Z"
   },
   {
    "duration": 3495,
    "start_time": "2024-06-15T23:47:05.025Z"
   },
   {
    "duration": 3842,
    "start_time": "2024-06-15T23:47:16.316Z"
   },
   {
    "duration": 34155,
    "start_time": "2024-06-16T10:40:39.867Z"
   },
   {
    "duration": 12243,
    "start_time": "2024-06-16T10:41:14.025Z"
   },
   {
    "duration": 4664,
    "start_time": "2024-06-16T10:41:26.270Z"
   },
   {
    "duration": 1976,
    "start_time": "2024-06-16T10:41:30.937Z"
   },
   {
    "duration": 2,
    "start_time": "2024-06-16T10:41:32.915Z"
   },
   {
    "duration": 419,
    "start_time": "2024-06-16T10:41:32.919Z"
   },
   {
    "duration": 5,
    "start_time": "2024-06-16T10:41:33.339Z"
   },
   {
    "duration": 82,
    "start_time": "2024-06-16T10:41:33.345Z"
   },
   {
    "duration": 13,
    "start_time": "2024-06-16T10:41:33.429Z"
   },
   {
    "duration": 22,
    "start_time": "2024-06-16T10:41:33.444Z"
   },
   {
    "duration": 85,
    "start_time": "2024-06-16T10:41:33.467Z"
   },
   {
    "duration": 42,
    "start_time": "2024-06-16T10:41:33.553Z"
   },
   {
    "duration": 29,
    "start_time": "2024-06-16T10:41:33.596Z"
   },
   {
    "duration": 495,
    "start_time": "2024-06-16T10:41:33.626Z"
   },
   {
    "duration": 24,
    "start_time": "2024-06-16T10:41:34.122Z"
   },
   {
    "duration": 16,
    "start_time": "2024-06-16T10:41:34.148Z"
   },
   {
    "duration": 4239,
    "start_time": "2024-06-16T10:41:34.165Z"
   },
   {
    "duration": 4704,
    "start_time": "2024-06-16T10:41:38.406Z"
   },
   {
    "duration": 13,
    "start_time": "2024-06-16T10:52:40.016Z"
   },
   {
    "duration": 20,
    "start_time": "2024-06-16T12:32:46.942Z"
   },
   {
    "duration": 135,
    "start_time": "2024-06-16T12:57:23.628Z"
   },
   {
    "duration": 6,
    "start_time": "2024-06-16T12:58:06.104Z"
   },
   {
    "duration": 24,
    "start_time": "2024-06-16T12:58:16.300Z"
   },
   {
    "duration": 21,
    "start_time": "2024-06-16T12:58:57.389Z"
   },
   {
    "duration": 24,
    "start_time": "2024-06-16T13:15:37.731Z"
   },
   {
    "duration": 18,
    "start_time": "2024-06-16T13:15:42.859Z"
   },
   {
    "duration": 20,
    "start_time": "2024-06-16T13:16:30.601Z"
   },
   {
    "duration": 19,
    "start_time": "2024-06-16T13:16:43.532Z"
   },
   {
    "duration": 20,
    "start_time": "2024-06-16T13:17:00.791Z"
   },
   {
    "duration": 55,
    "start_time": "2024-06-16T13:17:09.290Z"
   },
   {
    "duration": 5,
    "start_time": "2024-06-16T13:19:22.674Z"
   },
   {
    "duration": 12,
    "start_time": "2024-06-16T13:19:30.319Z"
   },
   {
    "duration": 16,
    "start_time": "2024-06-16T13:20:42.584Z"
   },
   {
    "duration": 13,
    "start_time": "2024-06-16T13:24:01.163Z"
   },
   {
    "duration": 5,
    "start_time": "2024-06-16T13:32:09.125Z"
   },
   {
    "duration": 12,
    "start_time": "2024-06-16T13:32:19.085Z"
   },
   {
    "duration": 4,
    "start_time": "2024-06-16T13:34:27.302Z"
   },
   {
    "duration": 23,
    "start_time": "2024-06-16T13:34:37.606Z"
   },
   {
    "duration": 15,
    "start_time": "2024-06-16T13:36:16.540Z"
   },
   {
    "duration": 19,
    "start_time": "2024-06-16T13:38:02.056Z"
   },
   {
    "duration": 160599,
    "start_time": "2024-06-16T13:38:48.800Z"
   },
   {
    "duration": 4,
    "start_time": "2024-06-16T13:42:42.751Z"
   },
   {
    "duration": 230834,
    "start_time": "2024-06-16T13:44:25.564Z"
   },
   {
    "duration": 6,
    "start_time": "2024-06-16T14:15:50.621Z"
   },
   {
    "duration": 23,
    "start_time": "2024-06-16T14:18:01.403Z"
   },
   {
    "duration": 18,
    "start_time": "2024-06-16T14:18:14.261Z"
   },
   {
    "duration": 44054,
    "start_time": "2024-06-16T14:21:58.851Z"
   },
   {
    "duration": 46,
    "start_time": "2024-06-16T14:24:27.175Z"
   },
   {
    "duration": 51,
    "start_time": "2024-06-16T14:24:34.120Z"
   },
   {
    "duration": 44939,
    "start_time": "2024-06-16T14:24:46.707Z"
   },
   {
    "duration": 3,
    "start_time": "2024-06-16T14:30:18.293Z"
   },
   {
    "duration": 97702,
    "start_time": "2024-06-16T14:30:21.858Z"
   },
   {
    "duration": 2149242,
    "start_time": "2024-06-16T14:34:34.282Z"
   },
   {
    "duration": 14,
    "start_time": "2024-06-16T15:12:36.573Z"
   },
   {
    "duration": 7762,
    "start_time": "2024-06-16T15:13:29.955Z"
   },
   {
    "duration": 6692,
    "start_time": "2024-06-16T15:14:08.690Z"
   },
   {
    "duration": 3981,
    "start_time": "2024-06-16T15:14:21.592Z"
   },
   {
    "duration": 7,
    "start_time": "2024-06-16T15:14:30.347Z"
   },
   {
    "duration": 197,
    "start_time": "2024-06-16T15:14:52.198Z"
   },
   {
    "duration": 12,
    "start_time": "2024-06-16T15:14:59.612Z"
   },
   {
    "duration": 12,
    "start_time": "2024-06-16T15:15:48.431Z"
   },
   {
    "duration": 3,
    "start_time": "2024-06-16T15:17:51.865Z"
   },
   {
    "duration": 3,
    "start_time": "2024-06-16T15:18:02.972Z"
   },
   {
    "duration": 12,
    "start_time": "2024-06-16T15:20:07.303Z"
   },
   {
    "duration": 10,
    "start_time": "2024-06-16T15:20:13.353Z"
   },
   {
    "duration": 11,
    "start_time": "2024-06-16T15:24:35.713Z"
   },
   {
    "duration": 11,
    "start_time": "2024-06-16T15:24:46.343Z"
   },
   {
    "duration": 11,
    "start_time": "2024-06-16T15:24:53.803Z"
   },
   {
    "duration": 12,
    "start_time": "2024-06-16T15:36:09.609Z"
   },
   {
    "duration": 12,
    "start_time": "2024-06-16T15:37:41.071Z"
   },
   {
    "duration": 16,
    "start_time": "2024-06-16T15:37:45.565Z"
   },
   {
    "duration": 14,
    "start_time": "2024-06-16T15:40:30.801Z"
   },
   {
    "duration": 9,
    "start_time": "2024-06-16T15:40:39.441Z"
   },
   {
    "duration": 20560,
    "start_time": "2024-06-16T15:44:48.592Z"
   },
   {
    "duration": 10686,
    "start_time": "2024-06-16T15:45:09.155Z"
   },
   {
    "duration": 2607,
    "start_time": "2024-06-16T15:45:19.844Z"
   },
   {
    "duration": 1759,
    "start_time": "2024-06-16T15:45:22.454Z"
   },
   {
    "duration": 80,
    "start_time": "2024-06-16T15:45:24.215Z"
   },
   {
    "duration": 162,
    "start_time": "2024-06-16T15:45:24.297Z"
   },
   {
    "duration": 4,
    "start_time": "2024-06-16T15:45:24.461Z"
   },
   {
    "duration": 74,
    "start_time": "2024-06-16T15:45:24.466Z"
   },
   {
    "duration": 18,
    "start_time": "2024-06-16T15:45:24.542Z"
   },
   {
    "duration": 47,
    "start_time": "2024-06-16T15:45:24.564Z"
   },
   {
    "duration": 65,
    "start_time": "2024-06-16T15:45:24.613Z"
   },
   {
    "duration": 36,
    "start_time": "2024-06-16T15:45:24.692Z"
   },
   {
    "duration": 66,
    "start_time": "2024-06-16T15:45:24.730Z"
   },
   {
    "duration": 390,
    "start_time": "2024-06-16T15:45:24.798Z"
   },
   {
    "duration": 26,
    "start_time": "2024-06-16T15:45:25.191Z"
   },
   {
    "duration": 19,
    "start_time": "2024-06-16T15:45:25.219Z"
   },
   {
    "duration": 4340,
    "start_time": "2024-06-16T15:45:25.240Z"
   },
   {
    "duration": 4703,
    "start_time": "2024-06-16T15:45:29.582Z"
   },
   {
    "duration": 11,
    "start_time": "2024-06-16T15:45:34.287Z"
   },
   {
    "duration": 21,
    "start_time": "2024-06-16T15:45:34.300Z"
   },
   {
    "duration": 4,
    "start_time": "2024-06-16T15:45:34.323Z"
   },
   {
    "duration": 6,
    "start_time": "2024-06-16T15:45:34.328Z"
   },
   {
    "duration": 5,
    "start_time": "2024-06-16T15:45:34.336Z"
   },
   {
    "duration": 739,
    "start_time": "2024-06-16T15:45:34.343Z"
   },
   {
    "duration": 0,
    "start_time": "2024-06-16T15:45:35.084Z"
   },
   {
    "duration": 0,
    "start_time": "2024-06-16T15:45:35.085Z"
   },
   {
    "duration": 0,
    "start_time": "2024-06-16T15:45:35.086Z"
   },
   {
    "duration": 0,
    "start_time": "2024-06-16T15:45:35.091Z"
   },
   {
    "duration": 0,
    "start_time": "2024-06-16T15:45:35.092Z"
   },
   {
    "duration": 0,
    "start_time": "2024-06-16T15:45:35.093Z"
   },
   {
    "duration": 0,
    "start_time": "2024-06-16T15:45:35.095Z"
   },
   {
    "duration": 0,
    "start_time": "2024-06-16T15:45:35.096Z"
   },
   {
    "duration": 55,
    "start_time": "2024-06-16T15:46:57.971Z"
   },
   {
    "duration": 162733,
    "start_time": "2024-06-16T15:47:07.578Z"
   },
   {
    "duration": 13,
    "start_time": "2024-06-16T15:49:56.613Z"
   },
   {
    "duration": 3,
    "start_time": "2024-06-16T15:50:02.331Z"
   },
   {
    "duration": 99714,
    "start_time": "2024-06-16T15:50:02.842Z"
   },
   {
    "duration": 2119743,
    "start_time": "2024-06-16T15:53:01.516Z"
   },
   {
    "duration": 14,
    "start_time": "2024-06-16T16:28:21.261Z"
   },
   {
    "duration": 4163,
    "start_time": "2024-06-16T17:09:50.899Z"
   },
   {
    "duration": 9,
    "start_time": "2024-06-16T17:09:57.286Z"
   },
   {
    "duration": 208,
    "start_time": "2024-06-16T17:10:07.133Z"
   },
   {
    "duration": 11,
    "start_time": "2024-06-16T17:10:07.767Z"
   },
   {
    "duration": 34853,
    "start_time": "2024-06-17T12:33:26.389Z"
   },
   {
    "duration": 13779,
    "start_time": "2024-06-17T12:34:01.245Z"
   },
   {
    "duration": 4729,
    "start_time": "2024-06-17T12:34:27.347Z"
   },
   {
    "duration": 2235,
    "start_time": "2024-06-17T12:34:33.956Z"
   },
   {
    "duration": 2,
    "start_time": "2024-06-17T12:34:36.193Z"
   },
   {
    "duration": 436,
    "start_time": "2024-06-17T12:35:16.380Z"
   },
   {
    "duration": 4,
    "start_time": "2024-06-17T12:35:25.018Z"
   },
   {
    "duration": 144,
    "start_time": "2024-06-17T12:51:46.173Z"
   },
   {
    "duration": 4,
    "start_time": "2024-06-17T12:51:46.517Z"
   },
   {
    "duration": 141,
    "start_time": "2024-06-17T12:52:43.283Z"
   },
   {
    "duration": 4,
    "start_time": "2024-06-17T12:52:43.663Z"
   },
   {
    "duration": 61,
    "start_time": "2024-06-17T12:52:45.071Z"
   },
   {
    "duration": 22,
    "start_time": "2024-06-17T12:52:46.019Z"
   },
   {
    "duration": 24,
    "start_time": "2024-06-17T12:52:47.211Z"
   },
   {
    "duration": 63,
    "start_time": "2024-06-17T12:52:49.359Z"
   },
   {
    "duration": 5,
    "start_time": "2024-06-17T12:53:06.071Z"
   },
   {
    "duration": 20967,
    "start_time": "2024-06-17T15:09:58.362Z"
   },
   {
    "duration": 11214,
    "start_time": "2024-06-17T15:10:19.332Z"
   },
   {
    "duration": 2933,
    "start_time": "2024-06-17T15:10:30.548Z"
   },
   {
    "duration": 6,
    "start_time": "2024-06-17T15:10:33.484Z"
   },
   {
    "duration": 8,
    "start_time": "2024-06-17T15:10:33.492Z"
   },
   {
    "duration": 206,
    "start_time": "2024-06-17T15:10:33.502Z"
   },
   {
    "duration": 5,
    "start_time": "2024-06-17T15:10:33.710Z"
   },
   {
    "duration": 116,
    "start_time": "2024-06-17T15:10:33.716Z"
   },
   {
    "duration": 61,
    "start_time": "2024-06-17T15:10:33.834Z"
   },
   {
    "duration": 41,
    "start_time": "2024-06-17T15:10:33.899Z"
   },
   {
    "duration": 166,
    "start_time": "2024-06-17T15:10:33.942Z"
   },
   {
    "duration": 7,
    "start_time": "2024-06-17T15:10:34.111Z"
   },
   {
    "duration": 75,
    "start_time": "2024-06-17T15:10:34.120Z"
   },
   {
    "duration": 37,
    "start_time": "2024-06-17T15:10:34.197Z"
   },
   {
    "duration": 491,
    "start_time": "2024-06-17T15:10:34.236Z"
   },
   {
    "duration": 25,
    "start_time": "2024-06-17T15:10:34.729Z"
   },
   {
    "duration": 66,
    "start_time": "2024-06-17T15:10:34.755Z"
   },
   {
    "duration": 4598,
    "start_time": "2024-06-17T15:10:34.823Z"
   },
   {
    "duration": 5225,
    "start_time": "2024-06-17T15:10:39.423Z"
   },
   {
    "duration": 12,
    "start_time": "2024-06-17T15:10:44.649Z"
   },
   {
    "duration": 27,
    "start_time": "2024-06-17T15:10:44.663Z"
   },
   {
    "duration": 4,
    "start_time": "2024-06-17T15:10:44.693Z"
   },
   {
    "duration": 58,
    "start_time": "2024-06-17T15:10:44.699Z"
   },
   {
    "duration": 3529897,
    "start_time": "2024-06-17T15:10:53.704Z"
   },
   {
    "duration": 14,
    "start_time": "2024-06-17T16:09:43.683Z"
   },
   {
    "duration": 12,
    "start_time": "2024-06-17T16:09:43.698Z"
   },
   {
    "duration": 2273100,
    "start_time": "2024-06-17T16:09:43.712Z"
   },
   {
    "duration": 13,
    "start_time": "2024-06-17T16:47:36.814Z"
   },
   {
    "duration": 4728,
    "start_time": "2024-06-17T16:47:36.828Z"
   },
   {
    "duration": 8,
    "start_time": "2024-06-17T16:47:41.557Z"
   },
   {
    "duration": 4693,
    "start_time": "2024-06-17T16:47:41.567Z"
   },
   {
    "duration": 4276,
    "start_time": "2024-06-17T16:48:11.265Z"
   },
   {
    "duration": 26,
    "start_time": "2024-06-17T16:48:23.294Z"
   },
   {
    "duration": 30887,
    "start_time": "2024-06-17T18:23:30.283Z"
   },
   {
    "duration": 12321,
    "start_time": "2024-06-17T18:24:01.173Z"
   },
   {
    "duration": 4232,
    "start_time": "2024-06-17T18:24:13.497Z"
   },
   {
    "duration": 31623,
    "start_time": "2024-06-17T18:24:20.387Z"
   },
   {
    "duration": 1540,
    "start_time": "2024-06-17T18:24:52.012Z"
   },
   {
    "duration": 71,
    "start_time": "2024-06-17T18:24:53.554Z"
   },
   {
    "duration": 401,
    "start_time": "2024-06-17T18:24:53.626Z"
   },
   {
    "duration": 3,
    "start_time": "2024-06-17T18:24:54.030Z"
   },
   {
    "duration": 61,
    "start_time": "2024-06-17T18:24:54.034Z"
   },
   {
    "duration": 15,
    "start_time": "2024-06-17T18:24:54.097Z"
   },
   {
    "duration": 19,
    "start_time": "2024-06-17T18:24:54.114Z"
   },
   {
    "duration": 71,
    "start_time": "2024-06-17T18:24:54.134Z"
   },
   {
    "duration": 4,
    "start_time": "2024-06-17T18:24:54.206Z"
   },
   {
    "duration": 37,
    "start_time": "2024-06-17T18:24:54.212Z"
   },
   {
    "duration": 35,
    "start_time": "2024-06-17T18:24:54.251Z"
   },
   {
    "duration": 313,
    "start_time": "2024-06-17T18:24:54.288Z"
   },
   {
    "duration": 18,
    "start_time": "2024-06-17T18:24:54.603Z"
   },
   {
    "duration": 20,
    "start_time": "2024-06-17T18:24:54.623Z"
   },
   {
    "duration": 3412,
    "start_time": "2024-06-17T18:24:54.644Z"
   },
   {
    "duration": 3968,
    "start_time": "2024-06-17T18:24:58.057Z"
   },
   {
    "duration": 10,
    "start_time": "2024-06-17T18:25:02.027Z"
   },
   {
    "duration": 100,
    "start_time": "2024-06-17T18:25:02.038Z"
   },
   {
    "duration": 13,
    "start_time": "2024-06-17T18:25:02.139Z"
   },
   {
    "duration": 23,
    "start_time": "2024-06-17T18:25:02.154Z"
   },
   {
    "duration": 67,
    "start_time": "2024-06-17T18:25:02.179Z"
   },
   {
    "duration": 443625,
    "start_time": "2024-06-17T18:25:02.247Z"
   },
   {
    "duration": 11,
    "start_time": "2024-06-17T18:32:25.873Z"
   },
   {
    "duration": 7,
    "start_time": "2024-06-17T18:32:25.885Z"
   },
   {
    "duration": 1660846,
    "start_time": "2024-06-17T18:32:25.894Z"
   },
   {
    "duration": 12,
    "start_time": "2024-06-17T19:00:06.741Z"
   },
   {
    "duration": 3266,
    "start_time": "2024-06-17T19:00:06.754Z"
   },
   {
    "duration": 5,
    "start_time": "2024-06-17T19:00:10.022Z"
   },
   {
    "duration": 3344,
    "start_time": "2024-06-17T19:00:10.028Z"
   },
   {
    "duration": 21,
    "start_time": "2024-06-17T19:00:13.373Z"
   },
   {
    "duration": 177,
    "start_time": "2024-06-17T19:00:13.395Z"
   },
   {
    "duration": 8,
    "start_time": "2024-06-17T19:00:13.573Z"
   },
   {
    "duration": 1122,
    "start_time": "2024-06-17T19:02:13.122Z"
   },
   {
    "duration": 5,
    "start_time": "2024-06-17T19:02:16.151Z"
   },
   {
    "duration": 155,
    "start_time": "2024-06-17T19:02:23.438Z"
   },
   {
    "duration": 8,
    "start_time": "2024-06-17T19:02:29.469Z"
   }
  ],
  "kernelspec": {
   "display_name": "Python 3 (ipykernel)",
   "language": "python",
   "name": "python3"
  },
  "language_info": {
   "codemirror_mode": {
    "name": "ipython",
    "version": 3
   },
   "file_extension": ".py",
   "mimetype": "text/x-python",
   "name": "python",
   "nbconvert_exporter": "python",
   "pygments_lexer": "ipython3",
   "version": "3.9.5"
  },
  "toc": {
   "base_numbering": 1,
   "nav_menu": {},
   "number_sections": true,
   "sideBar": true,
   "skip_h1_title": true,
   "title_cell": "Table of Contents",
   "title_sidebar": "Contents",
   "toc_cell": false,
   "toc_position": {},
   "toc_section_display": true,
   "toc_window_display": false
  }
 },
 "nbformat": 4,
 "nbformat_minor": 5
}
